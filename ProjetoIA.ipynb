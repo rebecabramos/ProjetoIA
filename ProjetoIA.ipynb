{
 "cells": [
  {
   "cell_type": "code",
   "execution_count": 1,
   "metadata": {},
   "outputs": [],
   "source": [
    "import numpy as np\n",
    "import pandas as pd\n",
    "import matplotlib.pyplot as plt\n",
    "\n",
    "from sklearn import preprocessing, metrics\n",
    "from sklearn.cluster import KMeans\n",
    "\n",
    "import warnings\n",
    "warnings.filterwarnings('ignore')"
   ]
  },
  {
   "cell_type": "code",
   "execution_count": 2,
   "metadata": {},
   "outputs": [
    {
     "data": {
      "text/plain": [
       "artist              0\n",
       "date            26363\n",
       "genre            1254\n",
       "pixelsx             0\n",
       "pixelsy             0\n",
       "size_bytes          0\n",
       "source            167\n",
       "style             986\n",
       "title             122\n",
       "artist_group        0\n",
       "in_train            0\n",
       "new_filename        0\n",
       "dtype: int64"
      ]
     },
     "execution_count": 2,
     "metadata": {},
     "output_type": "execute_result"
    }
   ],
   "source": [
    "train_df = pd.read_csv(\"dataset/all_data_info.csv\", encoding='UTF-8')\n",
    "\n",
    "train_df.isnull().sum()"
   ]
  },
  {
   "cell_type": "markdown",
   "metadata": {},
   "source": [
    "# Limpeza dos Dados\n",
    "Foram retiradas as células vazias, mesmo o número parecendo grande a base de dados contém mais de 100 mil amostras, por isso não comprometerá as previsões. Também foi retirada a coluna 'new_filename' que possuia códigos dos quadros entretanto estes foram apagados da base, logo também foi excluida."
   ]
  },
  {
   "cell_type": "code",
   "execution_count": 3,
   "metadata": {},
   "outputs": [],
   "source": [
    "train_df.drop(['in_train'], axis=1, inplace = True)\n",
    "train_df.drop(['artist_group'], axis=1, inplace = True)\n",
    "train_df.drop(['new_filename'], axis=1, inplace = True)\n",
    "train_df=train_df[pd.to_numeric(train_df['date'], errors='coerce').notnull()]\n",
    "train_df.dropna(inplace = True)"
   ]
  },
  {
   "cell_type": "code",
   "execution_count": 4,
   "metadata": {},
   "outputs": [
    {
     "data": {
      "text/plain": [
       "artist        0\n",
       "date          0\n",
       "genre         0\n",
       "pixelsx       0\n",
       "pixelsy       0\n",
       "size_bytes    0\n",
       "source        0\n",
       "style         0\n",
       "title         0\n",
       "dtype: int64"
      ]
     },
     "execution_count": 4,
     "metadata": {},
     "output_type": "execute_result"
    }
   ],
   "source": [
    "train_df.isnull().sum()"
   ]
  },
  {
   "cell_type": "markdown",
   "metadata": {},
   "source": [
    "# Separação dos Dados\n",
    "A seguir foram mostrados os diversos estilos que a base contém. Entretanto, foram separados apenas para previsão posterior dos autores do impressionismo."
   ]
  },
  {
   "cell_type": "code",
   "execution_count": 5,
   "metadata": {},
   "outputs": [
    {
     "name": "stdout",
     "output_type": "stream",
     "text": [
      "['Color Field Painting' 'Ukiyo-e' 'Surrealism' 'Romanticism' 'Cloisonnism'\n",
      " 'Northern Renaissance' 'Abstract Art' 'Realism' 'Biedermeier' 'Baroque'\n",
      " 'Cubism' 'Mannerism (Late Renaissance)' 'Rococo' 'High Renaissance'\n",
      " 'Fauvism' 'Symbolism' 'Early Renaissance' 'Classicism' 'Pointillism'\n",
      " 'Post-Impressionism' 'Art Nouveau (Modern)' 'Impressionism' 'Japonism'\n",
      " 'Neoclassicism' 'Expressionism' 'Contemporary Realism' 'Suprematism'\n",
      " 'Tachisme' 'Ink and wash painting' 'Magic Realism' 'Luminism'\n",
      " 'Academicism' 'Naïve Art (Primitivism)' 'Op Art' 'Neo-Romanticism'\n",
      " 'Constructivism' 'Dada' 'Neo-Expressionism' 'Neoplasticism'\n",
      " 'Abstract Expressionism' 'Lyrical Abstraction' 'Byzantine' 'Muralism'\n",
      " 'Art Informel' 'Tenebrism' 'Analytical\\xa0Realism' 'Concretism'\n",
      " 'Art Brut' 'Pop Art' 'Neo-Rococo' 'Orientalism' 'Regionalism' 'Futurism'\n",
      " 'Orphism' 'American Realism' 'Intimism' 'Synthetic Cubism'\n",
      " 'Metaphysical art' 'Socialist Realism' 'Miserablism' 'Shin-hanga'\n",
      " 'Social Realism' 'Post-Painterly Abstraction' 'Spatialism' 'Tubism'\n",
      " 'Proto Renaissance' 'International Gothic' 'Tonalism' 'Purism' 'Art Deco'\n",
      " 'Conceptual Art' 'Cubo-Futurism' 'New Realism' 'Outsider art'\n",
      " 'Action painting' 'Spectralism' 'Minimalism' 'Sōsaku hanga'\n",
      " 'Automatic Painting' 'Verism' 'Precisionism' 'Nouveau Réalisme'\n",
      " 'Synthetism' 'Neo-baroque' 'Neo-Dada' 'Indian Space painting' 'Mosan art'\n",
      " 'Naturalism' 'Kitsch' 'Safavid Period' 'Divisionism' 'Hyper-Realism'\n",
      " 'Kinetic Art' 'Cubo-Expressionism' 'Poster Art Realism'\n",
      " 'Nanga (Bunjinga)' 'Hard Edge Painting' 'Cartographic Art'\n",
      " 'Existential Art' 'Feminist Art' 'Lettrism' 'New European Painting'\n",
      " 'Figurative Expressionism' 'Post-Minimalism' 'Primitivism' 'Nihonga'\n",
      " 'Gongbi' 'Analytical Cubism' 'Gothic' 'Ottoman Period' 'Photorealism'\n",
      " 'Timurid Period' 'Synchromism' 'Neo-Concretism' 'Rayonism' 'Perceptism '\n",
      " 'Zen' 'Modernismo' 'Native Art' 'Mechanistic Cubism' 'Costumbrismo'\n",
      " 'Ilkhanid' 'Fantastic Realism' 'Light and Space' 'Mail Art'\n",
      " 'Neo-Figurative Art' 'Street art' 'Renaissance' 'New Casualism'\n",
      " 'Neo-Byzantine' 'Transautomatism']\n"
     ]
    }
   ],
   "source": [
    "print(train_df['style'].unique())"
   ]
  },
  {
   "cell_type": "markdown",
   "metadata": {},
   "source": [
    "# Seleção dos Dados\n",
    "Foram separados apenas os quadros pertencentes ao impressionismo."
   ]
  },
  {
   "cell_type": "code",
   "execution_count": 6,
   "metadata": {},
   "outputs": [
    {
     "data": {
      "text/html": [
       "<div>\n",
       "<style scoped>\n",
       "    .dataframe tbody tr th:only-of-type {\n",
       "        vertical-align: middle;\n",
       "    }\n",
       "\n",
       "    .dataframe tbody tr th {\n",
       "        vertical-align: top;\n",
       "    }\n",
       "\n",
       "    .dataframe thead th {\n",
       "        text-align: right;\n",
       "    }\n",
       "</style>\n",
       "<table border=\"1\" class=\"dataframe\">\n",
       "  <thead>\n",
       "    <tr style=\"text-align: right;\">\n",
       "      <th></th>\n",
       "      <th>artist</th>\n",
       "      <th>date</th>\n",
       "      <th>genre</th>\n",
       "      <th>pixelsx</th>\n",
       "      <th>pixelsy</th>\n",
       "      <th>size_bytes</th>\n",
       "      <th>source</th>\n",
       "      <th>style</th>\n",
       "      <th>title</th>\n",
       "    </tr>\n",
       "  </thead>\n",
       "  <tbody>\n",
       "    <tr>\n",
       "      <th>96</th>\n",
       "      <td>Gustave Caillebotte</td>\n",
       "      <td>1881</td>\n",
       "      <td>genre painting</td>\n",
       "      <td>5164.0</td>\n",
       "      <td>4087.0</td>\n",
       "      <td>3587461.0</td>\n",
       "      <td>wikiart</td>\n",
       "      <td>Impressionism</td>\n",
       "      <td>Rising Road</td>\n",
       "    </tr>\n",
       "    <tr>\n",
       "      <th>132</th>\n",
       "      <td>Theo van Rysselberghe</td>\n",
       "      <td>1905</td>\n",
       "      <td>nude painting (nu)</td>\n",
       "      <td>3642.0</td>\n",
       "      <td>5124.0</td>\n",
       "      <td>11270882.0</td>\n",
       "      <td>wikiart</td>\n",
       "      <td>Impressionism</td>\n",
       "      <td>Seated nude</td>\n",
       "    </tr>\n",
       "    <tr>\n",
       "      <th>147</th>\n",
       "      <td>Edgar Degas</td>\n",
       "      <td>1869</td>\n",
       "      <td>interior</td>\n",
       "      <td>5382.0</td>\n",
       "      <td>3349.0</td>\n",
       "      <td>1824204.0</td>\n",
       "      <td>wikiart</td>\n",
       "      <td>Impressionism</td>\n",
       "      <td>Interior (The Rape)</td>\n",
       "    </tr>\n",
       "    <tr>\n",
       "      <th>216</th>\n",
       "      <td>Claude Monet</td>\n",
       "      <td>1883</td>\n",
       "      <td>landscape</td>\n",
       "      <td>4540.0</td>\n",
       "      <td>3611.0</td>\n",
       "      <td>4873803.0</td>\n",
       "      <td>wikiart</td>\n",
       "      <td>Impressionism</td>\n",
       "      <td>The Manneport, Rock Arch West of Etretat</td>\n",
       "    </tr>\n",
       "    <tr>\n",
       "      <th>279</th>\n",
       "      <td>Pierre-Auguste Renoir</td>\n",
       "      <td>1917</td>\n",
       "      <td>sketch and study</td>\n",
       "      <td>4476.0</td>\n",
       "      <td>3396.0</td>\n",
       "      <td>8423735.0</td>\n",
       "      <td>wikiart</td>\n",
       "      <td>Impressionism</td>\n",
       "      <td>Sitting Girl</td>\n",
       "    </tr>\n",
       "    <tr>\n",
       "      <th>...</th>\n",
       "      <td>...</td>\n",
       "      <td>...</td>\n",
       "      <td>...</td>\n",
       "      <td>...</td>\n",
       "      <td>...</td>\n",
       "      <td>...</td>\n",
       "      <td>...</td>\n",
       "      <td>...</td>\n",
       "      <td>...</td>\n",
       "    </tr>\n",
       "    <tr>\n",
       "      <th>102967</th>\n",
       "      <td>Andre Dunoyer de Segonzac</td>\n",
       "      <td>1935.0</td>\n",
       "      <td>landscape</td>\n",
       "      <td>337.0</td>\n",
       "      <td>453.0</td>\n",
       "      <td>62344.0</td>\n",
       "      <td>wikiart</td>\n",
       "      <td>Impressionism</td>\n",
       "      <td>Le Morin pres de Guerard</td>\n",
       "    </tr>\n",
       "    <tr>\n",
       "      <th>103040</th>\n",
       "      <td>Gregoire Boonzaier</td>\n",
       "      <td>1964.0</td>\n",
       "      <td>landscape</td>\n",
       "      <td>450.0</td>\n",
       "      <td>338.0</td>\n",
       "      <td>117887.0</td>\n",
       "      <td>wikiart</td>\n",
       "      <td>Impressionism</td>\n",
       "      <td>Landscape with trees and houses</td>\n",
       "    </tr>\n",
       "    <tr>\n",
       "      <th>103063</th>\n",
       "      <td>Piet Mondrian</td>\n",
       "      <td>1907.0</td>\n",
       "      <td>still life</td>\n",
       "      <td>400.0</td>\n",
       "      <td>380.0</td>\n",
       "      <td>34095.0</td>\n",
       "      <td>wikiart</td>\n",
       "      <td>Impressionism</td>\n",
       "      <td>Nature died with Sunflower</td>\n",
       "    </tr>\n",
       "    <tr>\n",
       "      <th>103129</th>\n",
       "      <td>Hans am Ende</td>\n",
       "      <td>1900.0</td>\n",
       "      <td>sketch and study</td>\n",
       "      <td>315.0</td>\n",
       "      <td>480.0</td>\n",
       "      <td>32341.0</td>\n",
       "      <td>wikipedia</td>\n",
       "      <td>Impressionism</td>\n",
       "      <td>Maedchen auf der wiese</td>\n",
       "    </tr>\n",
       "    <tr>\n",
       "      <th>103232</th>\n",
       "      <td>Henrique Pousao</td>\n",
       "      <td>1882.0</td>\n",
       "      <td>cityscape</td>\n",
       "      <td>516.0</td>\n",
       "      <td>291.0</td>\n",
       "      <td>47079.0</td>\n",
       "      <td>wikiart</td>\n",
       "      <td>Impressionism</td>\n",
       "      <td>Miragem, Nápoles</td>\n",
       "    </tr>\n",
       "  </tbody>\n",
       "</table>\n",
       "<p>6870 rows × 9 columns</p>\n",
       "</div>"
      ],
      "text/plain": [
       "                           artist    date               genre  pixelsx  \\\n",
       "96            Gustave Caillebotte    1881      genre painting   5164.0   \n",
       "132         Theo van Rysselberghe    1905  nude painting (nu)   3642.0   \n",
       "147                   Edgar Degas    1869            interior   5382.0   \n",
       "216                  Claude Monet    1883           landscape   4540.0   \n",
       "279         Pierre-Auguste Renoir    1917    sketch and study   4476.0   \n",
       "...                           ...     ...                 ...      ...   \n",
       "102967  Andre Dunoyer de Segonzac  1935.0           landscape    337.0   \n",
       "103040         Gregoire Boonzaier  1964.0           landscape    450.0   \n",
       "103063              Piet Mondrian  1907.0          still life    400.0   \n",
       "103129               Hans am Ende  1900.0    sketch and study    315.0   \n",
       "103232            Henrique Pousao  1882.0           cityscape    516.0   \n",
       "\n",
       "        pixelsy  size_bytes     source          style  \\\n",
       "96       4087.0   3587461.0    wikiart  Impressionism   \n",
       "132      5124.0  11270882.0    wikiart  Impressionism   \n",
       "147      3349.0   1824204.0    wikiart  Impressionism   \n",
       "216      3611.0   4873803.0    wikiart  Impressionism   \n",
       "279      3396.0   8423735.0    wikiart  Impressionism   \n",
       "...         ...         ...        ...            ...   \n",
       "102967    453.0     62344.0    wikiart  Impressionism   \n",
       "103040    338.0    117887.0    wikiart  Impressionism   \n",
       "103063    380.0     34095.0    wikiart  Impressionism   \n",
       "103129    480.0     32341.0  wikipedia  Impressionism   \n",
       "103232    291.0     47079.0    wikiart  Impressionism   \n",
       "\n",
       "                                           title  \n",
       "96                                   Rising Road  \n",
       "132                                  Seated nude  \n",
       "147                          Interior (The Rape)  \n",
       "216     The Manneport, Rock Arch West of Etretat  \n",
       "279                                 Sitting Girl  \n",
       "...                                          ...  \n",
       "102967                  Le Morin pres de Guerard  \n",
       "103040           Landscape with trees and houses  \n",
       "103063                Nature died with Sunflower  \n",
       "103129                    Maedchen auf der wiese  \n",
       "103232                          Miragem, Nápoles  \n",
       "\n",
       "[6870 rows x 9 columns]"
      ]
     },
     "execution_count": 6,
     "metadata": {},
     "output_type": "execute_result"
    }
   ],
   "source": [
    "train_df = train_df.loc[train_df[\"style\"] == \"Impressionism\"]\n",
    "\n",
    "train_df"
   ]
  },
  {
   "cell_type": "markdown",
   "metadata": {},
   "source": [
    "# Transformação de colunas textuais em numéricas\n",
    "A base possui muitas colunas textuais, referentes a autores, obras, estilo. Todas foram transformadas, para melhor serem analisadas."
   ]
  },
  {
   "cell_type": "code",
   "execution_count": 7,
   "metadata": {},
   "outputs": [
    {
     "name": "stdout",
     "output_type": "stream",
     "text": [
      "['Gustave Caillebotte' 'Theo van Rysselberghe' 'Edgar Degas'\n",
      " 'Claude Monet' 'Pierre-Auguste Renoir' 'Ferdinand Hodler'\n",
      " 'Valentin Serov' 'Alfred Sisley' 'Paul Signac' 'Berthe Morisot'\n",
      " 'Childe Hassam' 'Eugene Boudin' 'Paul Cezanne' 'Anders Zorn'\n",
      " 'Max Slevogt' 'Henri de Toulouse-Lautrec' 'Honore Daumier'\n",
      " 'Camille Pissarro' 'At Les Ambassadeurs' 'Robert Julian Onderdonk'\n",
      " 'Max Liebermann' 'Cornelis Vreedenburgh' 'Edouard Manet'\n",
      " 'John Henry Twachtman' 'Giovanni Boldini' 'Southwest Texas'\n",
      " 'Mary Cassatt' 'Giuseppe de Nittis' 'Georg Pauli' 'Niccolo Cannicci'\n",
      " 'John Lavery' 'Frederic Bazille' 'Francisco Oller' 'Raoul Dufy'\n",
      " 'Federico Zandomeneghi' 'Andres de Santa Maria' 'Edmund Charles Tarbell'\n",
      " 'James McNeill Whistler' 'John Singer Sargent' 'James Tissot'\n",
      " 'Felix Vallotton ' 'Konstantin Yuon' 'Oleksandr Bogomazov'\n",
      " 'Frits Thaulow' 'Pablo Picasso' 'Henri-Edmond Cross' 'Edvard Munch'\n",
      " 'Umberto Boccioni' 'Thomas Eakins' 'Snowstorm' 'Henri Matisse'\n",
      " 'Maurice Prendergast' 'William Merritt Chase' 'John Marin'\n",
      " 'Victor Borisov-Musatov' 'Nikolay Bogdanov-Belsky'\n",
      " 'Akseli Gallen-Kallela' 'John Atkinson Grimshaw' 'Francis Picabia'\n",
      " 'Nicolae Grigorescu' 'Ivan Grohar' 'Isaac Levitan' 'Willard Metcalf'\n",
      " 'Theodor Philipsen' 'Gustave de Smet' 'Frantisek Kupka'\n",
      " 'Konstantin Korovin' 'Jan Toorop' 'La ceiba de Ponce ' 'Horace Trenerry'\n",
      " 'Guy Rose' 'Odilon Redon' 'Gregoire Boonzaier' 'Georges Seurat'\n",
      " 'Andre Dunoyer de Segonzac' 'Karl Edvard Diriks' 'Clear Weather'\n",
      " 'James Ensor' 'Jose Maria Velasco Gomez' 'Thomas Hart Benton'\n",
      " 'Boris Kustodiev' 'Carl Larsson' 'Thomas Pollock Anshutz' 'Paul Gauguin'\n",
      " 'Theodor Pallady' 'Giovanni Fattori' 'Vasily Surikov' 'David Davies'\n",
      " 'Lilla Cabot Perry' 'Jules Dupre' 'Armand Guillaumin'\n",
      " 'Albert Dubois-Pillet' 'Peder Severin Kroyer' 'Stare gniazdo'\n",
      " 'Henry Ossawa Tanner' 'A Back Yard Reminiscence of Brooklyn'\n",
      " 'Maxime Maufra' 'Santiago Rusinol' 'Tom Roberts' 'Arthur Streeton'\n",
      " 'Paysage a Auvers' 'Eliseu Visconti' 'Karoly Ferenczy' 'George Henry'\n",
      " 'Robert Harris' 'Effect of Snow' 'Winston Churchill' 'Auguste Herbin'\n",
      " 'Charlie Turner ' 'Howard Pyle' 'Robert Spencer' 'William James Glackens'\n",
      " 'Appledore, Isles of Shoals' 'Lovis Corinth' 'Central Park)'\n",
      " 'Othon Friesz' 'Filipp Malyavin' 'The Studio Corner' 'Arturo Michelena'\n",
      " 'Aleksander Gierymski' 'Joaquín Sorolla' 'Morning at Canoe Place'\n",
      " 'Ipolit Strambu' 'Lesser Ury' 'A Shinnecock Vale' 'Vilhelms Purvitis'\n",
      " 'Frederic Remington' 'Jose Maria Velasco' 'Evening ' 'Vilhelm Hammershoi'\n",
      " 'Marie Bracquemond' 'Benjamin Brown' 'Jean Alexandru Steriadi'\n",
      " 'Vasile Popescu' 'Alexej von Jawlensky' 'Julian Ashton'\n",
      " 'View of the Navy Arsenal' 'San Fraicisco' 'brzeg morza'\n",
      " 'Julian Alden Weir' 'The Builders, New York' 'Laszlo Mednyanszky'\n",
      " 'Giacomo Balla' 'Frederick McCubbin' 'Octav Bancila' 'Gloucester'\n",
      " 'Arkhip Kuindzhi' 'Lucian Grigorescu' 'Egon Schiele' 'T. C. Steele'\n",
      " 'Horia Bernea' 'Pierre Emmanuel Damoye' 'Armando Reveron'\n",
      " 'the Fallen Jockey' 'Franz Marc' 'Zinaida Serebriakova' 'Iosif Iser'\n",
      " 'Isles of Shoals' 'Salvador Dali' 'Three Women' 'George Luks'\n",
      " 'Philip Wilson Steer' 'Rudolf Schweitzer-Cumpana' 'Georges Lemmen'\n",
      " 'Villiers-le-Bel' 'Portrait of Mrs. Searle)' 'Stefan Dimitrescu'\n",
      " 'Eva Gonzales' 'Micaela Eleutheriade' 'Kimon Loghi' 'Stefan Luchian'\n",
      " 'Wilhelm Leibl' 'Study of a Nude' 'Lifeboat' 'Francisc Sirato'\n",
      " 'Samuel Mutzner' 'Emil Carlsen' 'Ilya Mashkov' 'a Sketch'\n",
      " 'Marianne North' 'Henri Catargi' 'Octav Angheluta' 'Nicolae Darascu'\n",
      " 'Henry Herbert La Thangue' 'Ion Theodorescu-Sion' 'James Charles'\n",
      " 'Julius LeBlanc Stewart' 'Stefan Popescu' 'Nicolae Vermont' 'Ilya Repin'\n",
      " 'Laura Knight' 'Nutzi Acontz' 'Alfred Stevens' 'Petre Abrudan'\n",
      " 'Thomas Kinkade' 'View of the Seine'\n",
      " 'Entry to the Medina in the Isle of Wight' 'Arthur Verona'\n",
      " 'Ethel Carrick' 'Antonio Carneiro' 'The White Dress' 'Mihaly Munkacsy'\n",
      " 'Konstantin Makovsky' 'Grant Wood' 'Henri Martin' 'Piet Mondrian'\n",
      " 'Santa Maria della Salute' 'Carlo Carra' 'Pericles Pantazis '\n",
      " 'Vasily Polenov' 'Mikhail Nesterov' 'Constantine Maleas'\n",
      " 'Georgios Jakobides' ' Periklis Vyzantios ' 'Istvan Nagy' 'Sever Burada'\n",
      " 'Market Place' 'LeRoy Neiman' 'Summertime' 'M. F. S. '\n",
      " 'A Corner in the Alhambra ' 'Walter Sickert' 'Finistere' 'Flemish Tavern'\n",
      " 'Janos Tornyai' 'Moonlight' 'Ferdynand Ruszczyc' 'Georges Braque'\n",
      " 'Ivan Albright' 'Carlos Saenz de Tejada' 'Paul Peel' 'Ioannis Altamouras'\n",
      " 'Ion Andreescu' 'Matej Sternen' 'Leon Bonnat'\n",
      " 'Theophrastos Triantafyllidis' 'Fedir Krychevsky' 'Pyotr Konchalovsky'\n",
      " 'António de Carvalho da Silva Porto' ' Thalia Flora-Karavia '\n",
      " 'Jean Metzinger' 'Philip de Laszlo' 'the Fur Cape'\n",
      " 'Boceto para el velorio' 'Saturnino Herran' 'George Pemba'\n",
      " 'The Golden Bay ' 'Theodor Aman' 'Jose Malhoa' 'Hoca Ali Riza'\n",
      " 'Konstantinos Volanakis' 'Tom Scott' 'Benito Quinquela Martin'\n",
      " 'Charles Reiffel' 'Amadeo de Souza-Cardoso' 'Burhan Dogancay'\n",
      " 'Kazimir Malevich' 'Nicolae Tonitza' 'Yiannis Tsaroychis' \"L'Albbé\"\n",
      " 'Jacek Malczewski' 'Ivan Vladimirov' 'Michel Simonidy'\n",
      " 'Spyros Papaloukas' 'Maurice Braun' 'Homer Watson' 'Bucks County'\n",
      " 'Leon Dabo' 'Maynard Dixon' 'Maurice Boitel' 'Hans am Ende'\n",
      " 'Galileo Chini' 'Constantin Artachino' 'Pieter Wenning' 'George Bellows'\n",
      " 'Edward Wadsworth' 'Walter Battiss' 'Gino Severini' 'Sunset'\n",
      " 'Firmin Baes' 'Victor Brauner' 'Paul Wonner' 'Ou Kaapstad'\n",
      " 'Paul Mathiopoulos' 'Arshile Gorky' 'Bela Czobel' 'Arthur Segal'\n",
      " 'Asgrimur Jonsson' 'Max Kurzweil' 'Henrique Pousao']\n"
     ]
    }
   ],
   "source": [
    "print(train_df['artist'].unique())"
   ]
  },
  {
   "cell_type": "code",
   "execution_count": 8,
   "metadata": {},
   "outputs": [],
   "source": [
    "train_df[\"artist\"] = train_df[\"artist\"].astype('category')"
   ]
  },
  {
   "cell_type": "code",
   "execution_count": 9,
   "metadata": {},
   "outputs": [
    {
     "data": {
      "text/html": [
       "<div>\n",
       "<style scoped>\n",
       "    .dataframe tbody tr th:only-of-type {\n",
       "        vertical-align: middle;\n",
       "    }\n",
       "\n",
       "    .dataframe tbody tr th {\n",
       "        vertical-align: top;\n",
       "    }\n",
       "\n",
       "    .dataframe thead th {\n",
       "        text-align: right;\n",
       "    }\n",
       "</style>\n",
       "<table border=\"1\" class=\"dataframe\">\n",
       "  <thead>\n",
       "    <tr style=\"text-align: right;\">\n",
       "      <th></th>\n",
       "      <th>artist</th>\n",
       "      <th>date</th>\n",
       "      <th>genre</th>\n",
       "      <th>pixelsx</th>\n",
       "      <th>pixelsy</th>\n",
       "      <th>size_bytes</th>\n",
       "      <th>source</th>\n",
       "      <th>style</th>\n",
       "      <th>title</th>\n",
       "      <th>artist_cat</th>\n",
       "    </tr>\n",
       "  </thead>\n",
       "  <tbody>\n",
       "    <tr>\n",
       "      <th>96</th>\n",
       "      <td>Gustave Caillebotte</td>\n",
       "      <td>1881</td>\n",
       "      <td>genre painting</td>\n",
       "      <td>5164.0</td>\n",
       "      <td>4087.0</td>\n",
       "      <td>3587461.0</td>\n",
       "      <td>wikiart</td>\n",
       "      <td>Impressionism</td>\n",
       "      <td>Rising Road</td>\n",
       "      <td>101</td>\n",
       "    </tr>\n",
       "    <tr>\n",
       "      <th>132</th>\n",
       "      <td>Theo van Rysselberghe</td>\n",
       "      <td>1905</td>\n",
       "      <td>nude painting (nu)</td>\n",
       "      <td>3642.0</td>\n",
       "      <td>5124.0</td>\n",
       "      <td>11270882.0</td>\n",
       "      <td>wikiart</td>\n",
       "      <td>Impressionism</td>\n",
       "      <td>Seated nude</td>\n",
       "      <td>253</td>\n",
       "    </tr>\n",
       "    <tr>\n",
       "      <th>147</th>\n",
       "      <td>Edgar Degas</td>\n",
       "      <td>1869</td>\n",
       "      <td>interior</td>\n",
       "      <td>5382.0</td>\n",
       "      <td>3349.0</td>\n",
       "      <td>1824204.0</td>\n",
       "      <td>wikiart</td>\n",
       "      <td>Impressionism</td>\n",
       "      <td>Interior (The Rape)</td>\n",
       "      <td>51</td>\n",
       "    </tr>\n",
       "    <tr>\n",
       "      <th>216</th>\n",
       "      <td>Claude Monet</td>\n",
       "      <td>1883</td>\n",
       "      <td>landscape</td>\n",
       "      <td>4540.0</td>\n",
       "      <td>3611.0</td>\n",
       "      <td>4873803.0</td>\n",
       "      <td>wikiart</td>\n",
       "      <td>Impressionism</td>\n",
       "      <td>The Manneport, Rock Arch West of Etretat</td>\n",
       "      <td>45</td>\n",
       "    </tr>\n",
       "    <tr>\n",
       "      <th>279</th>\n",
       "      <td>Pierre-Auguste Renoir</td>\n",
       "      <td>1917</td>\n",
       "      <td>sketch and study</td>\n",
       "      <td>4476.0</td>\n",
       "      <td>3396.0</td>\n",
       "      <td>8423735.0</td>\n",
       "      <td>wikiart</td>\n",
       "      <td>Impressionism</td>\n",
       "      <td>Sitting Girl</td>\n",
       "      <td>221</td>\n",
       "    </tr>\n",
       "    <tr>\n",
       "      <th>...</th>\n",
       "      <td>...</td>\n",
       "      <td>...</td>\n",
       "      <td>...</td>\n",
       "      <td>...</td>\n",
       "      <td>...</td>\n",
       "      <td>...</td>\n",
       "      <td>...</td>\n",
       "      <td>...</td>\n",
       "      <td>...</td>\n",
       "      <td>...</td>\n",
       "    </tr>\n",
       "    <tr>\n",
       "      <th>102967</th>\n",
       "      <td>Andre Dunoyer de Segonzac</td>\n",
       "      <td>1935.0</td>\n",
       "      <td>landscape</td>\n",
       "      <td>337.0</td>\n",
       "      <td>453.0</td>\n",
       "      <td>62344.0</td>\n",
       "      <td>wikiart</td>\n",
       "      <td>Impressionism</td>\n",
       "      <td>Le Morin pres de Guerard</td>\n",
       "      <td>13</td>\n",
       "    </tr>\n",
       "    <tr>\n",
       "      <th>103040</th>\n",
       "      <td>Gregoire Boonzaier</td>\n",
       "      <td>1964.0</td>\n",
       "      <td>landscape</td>\n",
       "      <td>450.0</td>\n",
       "      <td>338.0</td>\n",
       "      <td>117887.0</td>\n",
       "      <td>wikiart</td>\n",
       "      <td>Impressionism</td>\n",
       "      <td>Landscape with trees and houses</td>\n",
       "      <td>100</td>\n",
       "    </tr>\n",
       "    <tr>\n",
       "      <th>103063</th>\n",
       "      <td>Piet Mondrian</td>\n",
       "      <td>1907.0</td>\n",
       "      <td>still life</td>\n",
       "      <td>400.0</td>\n",
       "      <td>380.0</td>\n",
       "      <td>34095.0</td>\n",
       "      <td>wikiart</td>\n",
       "      <td>Impressionism</td>\n",
       "      <td>Nature died with Sunflower</td>\n",
       "      <td>222</td>\n",
       "    </tr>\n",
       "    <tr>\n",
       "      <th>103129</th>\n",
       "      <td>Hans am Ende</td>\n",
       "      <td>1900.0</td>\n",
       "      <td>sketch and study</td>\n",
       "      <td>315.0</td>\n",
       "      <td>480.0</td>\n",
       "      <td>32341.0</td>\n",
       "      <td>wikipedia</td>\n",
       "      <td>Impressionism</td>\n",
       "      <td>Maedchen auf der wiese</td>\n",
       "      <td>104</td>\n",
       "    </tr>\n",
       "    <tr>\n",
       "      <th>103232</th>\n",
       "      <td>Henrique Pousao</td>\n",
       "      <td>1882.0</td>\n",
       "      <td>cityscape</td>\n",
       "      <td>516.0</td>\n",
       "      <td>291.0</td>\n",
       "      <td>47079.0</td>\n",
       "      <td>wikiart</td>\n",
       "      <td>Impressionism</td>\n",
       "      <td>Miragem, Nápoles</td>\n",
       "      <td>110</td>\n",
       "    </tr>\n",
       "  </tbody>\n",
       "</table>\n",
       "<p>6870 rows × 10 columns</p>\n",
       "</div>"
      ],
      "text/plain": [
       "                           artist    date               genre  pixelsx  \\\n",
       "96            Gustave Caillebotte    1881      genre painting   5164.0   \n",
       "132         Theo van Rysselberghe    1905  nude painting (nu)   3642.0   \n",
       "147                   Edgar Degas    1869            interior   5382.0   \n",
       "216                  Claude Monet    1883           landscape   4540.0   \n",
       "279         Pierre-Auguste Renoir    1917    sketch and study   4476.0   \n",
       "...                           ...     ...                 ...      ...   \n",
       "102967  Andre Dunoyer de Segonzac  1935.0           landscape    337.0   \n",
       "103040         Gregoire Boonzaier  1964.0           landscape    450.0   \n",
       "103063              Piet Mondrian  1907.0          still life    400.0   \n",
       "103129               Hans am Ende  1900.0    sketch and study    315.0   \n",
       "103232            Henrique Pousao  1882.0           cityscape    516.0   \n",
       "\n",
       "        pixelsy  size_bytes     source          style  \\\n",
       "96       4087.0   3587461.0    wikiart  Impressionism   \n",
       "132      5124.0  11270882.0    wikiart  Impressionism   \n",
       "147      3349.0   1824204.0    wikiart  Impressionism   \n",
       "216      3611.0   4873803.0    wikiart  Impressionism   \n",
       "279      3396.0   8423735.0    wikiart  Impressionism   \n",
       "...         ...         ...        ...            ...   \n",
       "102967    453.0     62344.0    wikiart  Impressionism   \n",
       "103040    338.0    117887.0    wikiart  Impressionism   \n",
       "103063    380.0     34095.0    wikiart  Impressionism   \n",
       "103129    480.0     32341.0  wikipedia  Impressionism   \n",
       "103232    291.0     47079.0    wikiart  Impressionism   \n",
       "\n",
       "                                           title  artist_cat  \n",
       "96                                   Rising Road         101  \n",
       "132                                  Seated nude         253  \n",
       "147                          Interior (The Rape)          51  \n",
       "216     The Manneport, Rock Arch West of Etretat          45  \n",
       "279                                 Sitting Girl         221  \n",
       "...                                          ...         ...  \n",
       "102967                  Le Morin pres de Guerard          13  \n",
       "103040           Landscape with trees and houses         100  \n",
       "103063                Nature died with Sunflower         222  \n",
       "103129                    Maedchen auf der wiese         104  \n",
       "103232                          Miragem, Nápoles         110  \n",
       "\n",
       "[6870 rows x 10 columns]"
      ]
     },
     "execution_count": 9,
     "metadata": {},
     "output_type": "execute_result"
    }
   ],
   "source": [
    "train_df[\"artist_cat\"] = train_df[\"artist\"].cat.codes\n",
    "\n",
    "train_df"
   ]
  },
  {
   "cell_type": "code",
   "execution_count": 10,
   "metadata": {},
   "outputs": [
    {
     "name": "stdout",
     "output_type": "stream",
     "text": [
      "['Rising Road' 'Seated nude' 'Interior (The Rape)' ...\n",
      " 'Nature died with Sunflower' 'Maedchen auf der wiese' 'Miragem, Nápoles']\n"
     ]
    }
   ],
   "source": [
    "print(train_df['title'].unique())"
   ]
  },
  {
   "cell_type": "code",
   "execution_count": 11,
   "metadata": {},
   "outputs": [],
   "source": [
    "train_df[\"title\"] = train_df[\"title\"].astype('category')"
   ]
  },
  {
   "cell_type": "code",
   "execution_count": 12,
   "metadata": {},
   "outputs": [
    {
     "data": {
      "text/html": [
       "<div>\n",
       "<style scoped>\n",
       "    .dataframe tbody tr th:only-of-type {\n",
       "        vertical-align: middle;\n",
       "    }\n",
       "\n",
       "    .dataframe tbody tr th {\n",
       "        vertical-align: top;\n",
       "    }\n",
       "\n",
       "    .dataframe thead th {\n",
       "        text-align: right;\n",
       "    }\n",
       "</style>\n",
       "<table border=\"1\" class=\"dataframe\">\n",
       "  <thead>\n",
       "    <tr style=\"text-align: right;\">\n",
       "      <th></th>\n",
       "      <th>artist</th>\n",
       "      <th>date</th>\n",
       "      <th>genre</th>\n",
       "      <th>pixelsx</th>\n",
       "      <th>pixelsy</th>\n",
       "      <th>size_bytes</th>\n",
       "      <th>source</th>\n",
       "      <th>style</th>\n",
       "      <th>title</th>\n",
       "      <th>artist_cat</th>\n",
       "      <th>title_cat</th>\n",
       "    </tr>\n",
       "  </thead>\n",
       "  <tbody>\n",
       "    <tr>\n",
       "      <th>96</th>\n",
       "      <td>Gustave Caillebotte</td>\n",
       "      <td>1881</td>\n",
       "      <td>genre painting</td>\n",
       "      <td>5164.0</td>\n",
       "      <td>4087.0</td>\n",
       "      <td>3587461.0</td>\n",
       "      <td>wikiart</td>\n",
       "      <td>Impressionism</td>\n",
       "      <td>Rising Road</td>\n",
       "      <td>101</td>\n",
       "      <td>3829</td>\n",
       "    </tr>\n",
       "    <tr>\n",
       "      <th>132</th>\n",
       "      <td>Theo van Rysselberghe</td>\n",
       "      <td>1905</td>\n",
       "      <td>nude painting (nu)</td>\n",
       "      <td>3642.0</td>\n",
       "      <td>5124.0</td>\n",
       "      <td>11270882.0</td>\n",
       "      <td>wikiart</td>\n",
       "      <td>Impressionism</td>\n",
       "      <td>Seated nude</td>\n",
       "      <td>253</td>\n",
       "      <td>4044</td>\n",
       "    </tr>\n",
       "    <tr>\n",
       "      <th>147</th>\n",
       "      <td>Edgar Degas</td>\n",
       "      <td>1869</td>\n",
       "      <td>interior</td>\n",
       "      <td>5382.0</td>\n",
       "      <td>3349.0</td>\n",
       "      <td>1824204.0</td>\n",
       "      <td>wikiart</td>\n",
       "      <td>Impressionism</td>\n",
       "      <td>Interior (The Rape)</td>\n",
       "      <td>51</td>\n",
       "      <td>2106</td>\n",
       "    </tr>\n",
       "    <tr>\n",
       "      <th>216</th>\n",
       "      <td>Claude Monet</td>\n",
       "      <td>1883</td>\n",
       "      <td>landscape</td>\n",
       "      <td>4540.0</td>\n",
       "      <td>3611.0</td>\n",
       "      <td>4873803.0</td>\n",
       "      <td>wikiart</td>\n",
       "      <td>Impressionism</td>\n",
       "      <td>The Manneport, Rock Arch West of Etretat</td>\n",
       "      <td>45</td>\n",
       "      <td>5064</td>\n",
       "    </tr>\n",
       "    <tr>\n",
       "      <th>279</th>\n",
       "      <td>Pierre-Auguste Renoir</td>\n",
       "      <td>1917</td>\n",
       "      <td>sketch and study</td>\n",
       "      <td>4476.0</td>\n",
       "      <td>3396.0</td>\n",
       "      <td>8423735.0</td>\n",
       "      <td>wikiart</td>\n",
       "      <td>Impressionism</td>\n",
       "      <td>Sitting Girl</td>\n",
       "      <td>221</td>\n",
       "      <td>4161</td>\n",
       "    </tr>\n",
       "    <tr>\n",
       "      <th>...</th>\n",
       "      <td>...</td>\n",
       "      <td>...</td>\n",
       "      <td>...</td>\n",
       "      <td>...</td>\n",
       "      <td>...</td>\n",
       "      <td>...</td>\n",
       "      <td>...</td>\n",
       "      <td>...</td>\n",
       "      <td>...</td>\n",
       "      <td>...</td>\n",
       "      <td>...</td>\n",
       "    </tr>\n",
       "    <tr>\n",
       "      <th>102967</th>\n",
       "      <td>Andre Dunoyer de Segonzac</td>\n",
       "      <td>1935.0</td>\n",
       "      <td>landscape</td>\n",
       "      <td>337.0</td>\n",
       "      <td>453.0</td>\n",
       "      <td>62344.0</td>\n",
       "      <td>wikiart</td>\n",
       "      <td>Impressionism</td>\n",
       "      <td>Le Morin pres de Guerard</td>\n",
       "      <td>13</td>\n",
       "      <td>2420</td>\n",
       "    </tr>\n",
       "    <tr>\n",
       "      <th>103040</th>\n",
       "      <td>Gregoire Boonzaier</td>\n",
       "      <td>1964.0</td>\n",
       "      <td>landscape</td>\n",
       "      <td>450.0</td>\n",
       "      <td>338.0</td>\n",
       "      <td>117887.0</td>\n",
       "      <td>wikiart</td>\n",
       "      <td>Impressionism</td>\n",
       "      <td>Landscape with trees and houses</td>\n",
       "      <td>100</td>\n",
       "      <td>2363</td>\n",
       "    </tr>\n",
       "    <tr>\n",
       "      <th>103063</th>\n",
       "      <td>Piet Mondrian</td>\n",
       "      <td>1907.0</td>\n",
       "      <td>still life</td>\n",
       "      <td>400.0</td>\n",
       "      <td>380.0</td>\n",
       "      <td>34095.0</td>\n",
       "      <td>wikiart</td>\n",
       "      <td>Impressionism</td>\n",
       "      <td>Nature died with Sunflower</td>\n",
       "      <td>222</td>\n",
       "      <td>2882</td>\n",
       "    </tr>\n",
       "    <tr>\n",
       "      <th>103129</th>\n",
       "      <td>Hans am Ende</td>\n",
       "      <td>1900.0</td>\n",
       "      <td>sketch and study</td>\n",
       "      <td>315.0</td>\n",
       "      <td>480.0</td>\n",
       "      <td>32341.0</td>\n",
       "      <td>wikipedia</td>\n",
       "      <td>Impressionism</td>\n",
       "      <td>Maedchen auf der wiese</td>\n",
       "      <td>104</td>\n",
       "      <td>2566</td>\n",
       "    </tr>\n",
       "    <tr>\n",
       "      <th>103232</th>\n",
       "      <td>Henrique Pousao</td>\n",
       "      <td>1882.0</td>\n",
       "      <td>cityscape</td>\n",
       "      <td>516.0</td>\n",
       "      <td>291.0</td>\n",
       "      <td>47079.0</td>\n",
       "      <td>wikiart</td>\n",
       "      <td>Impressionism</td>\n",
       "      <td>Miragem, Nápoles</td>\n",
       "      <td>110</td>\n",
       "      <td>2700</td>\n",
       "    </tr>\n",
       "  </tbody>\n",
       "</table>\n",
       "<p>6870 rows × 11 columns</p>\n",
       "</div>"
      ],
      "text/plain": [
       "                           artist    date               genre  pixelsx  \\\n",
       "96            Gustave Caillebotte    1881      genre painting   5164.0   \n",
       "132         Theo van Rysselberghe    1905  nude painting (nu)   3642.0   \n",
       "147                   Edgar Degas    1869            interior   5382.0   \n",
       "216                  Claude Monet    1883           landscape   4540.0   \n",
       "279         Pierre-Auguste Renoir    1917    sketch and study   4476.0   \n",
       "...                           ...     ...                 ...      ...   \n",
       "102967  Andre Dunoyer de Segonzac  1935.0           landscape    337.0   \n",
       "103040         Gregoire Boonzaier  1964.0           landscape    450.0   \n",
       "103063              Piet Mondrian  1907.0          still life    400.0   \n",
       "103129               Hans am Ende  1900.0    sketch and study    315.0   \n",
       "103232            Henrique Pousao  1882.0           cityscape    516.0   \n",
       "\n",
       "        pixelsy  size_bytes     source          style  \\\n",
       "96       4087.0   3587461.0    wikiart  Impressionism   \n",
       "132      5124.0  11270882.0    wikiart  Impressionism   \n",
       "147      3349.0   1824204.0    wikiart  Impressionism   \n",
       "216      3611.0   4873803.0    wikiart  Impressionism   \n",
       "279      3396.0   8423735.0    wikiart  Impressionism   \n",
       "...         ...         ...        ...            ...   \n",
       "102967    453.0     62344.0    wikiart  Impressionism   \n",
       "103040    338.0    117887.0    wikiart  Impressionism   \n",
       "103063    380.0     34095.0    wikiart  Impressionism   \n",
       "103129    480.0     32341.0  wikipedia  Impressionism   \n",
       "103232    291.0     47079.0    wikiart  Impressionism   \n",
       "\n",
       "                                           title  artist_cat  title_cat  \n",
       "96                                   Rising Road         101       3829  \n",
       "132                                  Seated nude         253       4044  \n",
       "147                          Interior (The Rape)          51       2106  \n",
       "216     The Manneport, Rock Arch West of Etretat          45       5064  \n",
       "279                                 Sitting Girl         221       4161  \n",
       "...                                          ...         ...        ...  \n",
       "102967                  Le Morin pres de Guerard          13       2420  \n",
       "103040           Landscape with trees and houses         100       2363  \n",
       "103063                Nature died with Sunflower         222       2882  \n",
       "103129                    Maedchen auf der wiese         104       2566  \n",
       "103232                          Miragem, Nápoles         110       2700  \n",
       "\n",
       "[6870 rows x 11 columns]"
      ]
     },
     "execution_count": 12,
     "metadata": {},
     "output_type": "execute_result"
    }
   ],
   "source": [
    "train_df[\"title_cat\"] = train_df[\"title\"].cat.codes\n",
    "\n",
    "train_df"
   ]
  },
  {
   "cell_type": "code",
   "execution_count": 13,
   "metadata": {},
   "outputs": [
    {
     "name": "stdout",
     "output_type": "stream",
     "text": [
      "['genre painting' 'nude painting (nu)' 'interior' 'landscape'\n",
      " 'sketch and study' 'portrait' 'cityscape' 'flower painting'\n",
      " 'symbolic painting' 'self-portrait' 'marina' 'still life'\n",
      " 'history painting' 'allegorical painting' 'literary painting'\n",
      " 'animal painting' 'religious painting' 'illustration'\n",
      " 'mythological painting' 'pastorale' 'battle painting' 'caricature'\n",
      " 'design' 'figurative' 'cloudscape' 'panorama' 'poster'\n",
      " 'wildlife painting']\n"
     ]
    }
   ],
   "source": [
    "print(train_df['genre'].unique())"
   ]
  },
  {
   "cell_type": "code",
   "execution_count": 14,
   "metadata": {},
   "outputs": [],
   "source": [
    "train_df[\"genre\"] = train_df[\"genre\"].astype('category')"
   ]
  },
  {
   "cell_type": "code",
   "execution_count": 15,
   "metadata": {},
   "outputs": [
    {
     "data": {
      "text/html": [
       "<div>\n",
       "<style scoped>\n",
       "    .dataframe tbody tr th:only-of-type {\n",
       "        vertical-align: middle;\n",
       "    }\n",
       "\n",
       "    .dataframe tbody tr th {\n",
       "        vertical-align: top;\n",
       "    }\n",
       "\n",
       "    .dataframe thead th {\n",
       "        text-align: right;\n",
       "    }\n",
       "</style>\n",
       "<table border=\"1\" class=\"dataframe\">\n",
       "  <thead>\n",
       "    <tr style=\"text-align: right;\">\n",
       "      <th></th>\n",
       "      <th>artist</th>\n",
       "      <th>date</th>\n",
       "      <th>genre</th>\n",
       "      <th>pixelsx</th>\n",
       "      <th>pixelsy</th>\n",
       "      <th>size_bytes</th>\n",
       "      <th>source</th>\n",
       "      <th>style</th>\n",
       "      <th>title</th>\n",
       "      <th>artist_cat</th>\n",
       "      <th>title_cat</th>\n",
       "      <th>genre_cat</th>\n",
       "    </tr>\n",
       "  </thead>\n",
       "  <tbody>\n",
       "    <tr>\n",
       "      <th>96</th>\n",
       "      <td>Gustave Caillebotte</td>\n",
       "      <td>1881</td>\n",
       "      <td>genre painting</td>\n",
       "      <td>5164.0</td>\n",
       "      <td>4087.0</td>\n",
       "      <td>3587461.0</td>\n",
       "      <td>wikiart</td>\n",
       "      <td>Impressionism</td>\n",
       "      <td>Rising Road</td>\n",
       "      <td>101</td>\n",
       "      <td>3829</td>\n",
       "      <td>9</td>\n",
       "    </tr>\n",
       "    <tr>\n",
       "      <th>132</th>\n",
       "      <td>Theo van Rysselberghe</td>\n",
       "      <td>1905</td>\n",
       "      <td>nude painting (nu)</td>\n",
       "      <td>3642.0</td>\n",
       "      <td>5124.0</td>\n",
       "      <td>11270882.0</td>\n",
       "      <td>wikiart</td>\n",
       "      <td>Impressionism</td>\n",
       "      <td>Seated nude</td>\n",
       "      <td>253</td>\n",
       "      <td>4044</td>\n",
       "      <td>17</td>\n",
       "    </tr>\n",
       "    <tr>\n",
       "      <th>147</th>\n",
       "      <td>Edgar Degas</td>\n",
       "      <td>1869</td>\n",
       "      <td>interior</td>\n",
       "      <td>5382.0</td>\n",
       "      <td>3349.0</td>\n",
       "      <td>1824204.0</td>\n",
       "      <td>wikiart</td>\n",
       "      <td>Impressionism</td>\n",
       "      <td>Interior (The Rape)</td>\n",
       "      <td>51</td>\n",
       "      <td>2106</td>\n",
       "      <td>12</td>\n",
       "    </tr>\n",
       "    <tr>\n",
       "      <th>216</th>\n",
       "      <td>Claude Monet</td>\n",
       "      <td>1883</td>\n",
       "      <td>landscape</td>\n",
       "      <td>4540.0</td>\n",
       "      <td>3611.0</td>\n",
       "      <td>4873803.0</td>\n",
       "      <td>wikiart</td>\n",
       "      <td>Impressionism</td>\n",
       "      <td>The Manneport, Rock Arch West of Etretat</td>\n",
       "      <td>45</td>\n",
       "      <td>5064</td>\n",
       "      <td>13</td>\n",
       "    </tr>\n",
       "    <tr>\n",
       "      <th>279</th>\n",
       "      <td>Pierre-Auguste Renoir</td>\n",
       "      <td>1917</td>\n",
       "      <td>sketch and study</td>\n",
       "      <td>4476.0</td>\n",
       "      <td>3396.0</td>\n",
       "      <td>8423735.0</td>\n",
       "      <td>wikiart</td>\n",
       "      <td>Impressionism</td>\n",
       "      <td>Sitting Girl</td>\n",
       "      <td>221</td>\n",
       "      <td>4161</td>\n",
       "      <td>24</td>\n",
       "    </tr>\n",
       "    <tr>\n",
       "      <th>...</th>\n",
       "      <td>...</td>\n",
       "      <td>...</td>\n",
       "      <td>...</td>\n",
       "      <td>...</td>\n",
       "      <td>...</td>\n",
       "      <td>...</td>\n",
       "      <td>...</td>\n",
       "      <td>...</td>\n",
       "      <td>...</td>\n",
       "      <td>...</td>\n",
       "      <td>...</td>\n",
       "      <td>...</td>\n",
       "    </tr>\n",
       "    <tr>\n",
       "      <th>102967</th>\n",
       "      <td>Andre Dunoyer de Segonzac</td>\n",
       "      <td>1935.0</td>\n",
       "      <td>landscape</td>\n",
       "      <td>337.0</td>\n",
       "      <td>453.0</td>\n",
       "      <td>62344.0</td>\n",
       "      <td>wikiart</td>\n",
       "      <td>Impressionism</td>\n",
       "      <td>Le Morin pres de Guerard</td>\n",
       "      <td>13</td>\n",
       "      <td>2420</td>\n",
       "      <td>13</td>\n",
       "    </tr>\n",
       "    <tr>\n",
       "      <th>103040</th>\n",
       "      <td>Gregoire Boonzaier</td>\n",
       "      <td>1964.0</td>\n",
       "      <td>landscape</td>\n",
       "      <td>450.0</td>\n",
       "      <td>338.0</td>\n",
       "      <td>117887.0</td>\n",
       "      <td>wikiart</td>\n",
       "      <td>Impressionism</td>\n",
       "      <td>Landscape with trees and houses</td>\n",
       "      <td>100</td>\n",
       "      <td>2363</td>\n",
       "      <td>13</td>\n",
       "    </tr>\n",
       "    <tr>\n",
       "      <th>103063</th>\n",
       "      <td>Piet Mondrian</td>\n",
       "      <td>1907.0</td>\n",
       "      <td>still life</td>\n",
       "      <td>400.0</td>\n",
       "      <td>380.0</td>\n",
       "      <td>34095.0</td>\n",
       "      <td>wikiart</td>\n",
       "      <td>Impressionism</td>\n",
       "      <td>Nature died with Sunflower</td>\n",
       "      <td>222</td>\n",
       "      <td>2882</td>\n",
       "      <td>25</td>\n",
       "    </tr>\n",
       "    <tr>\n",
       "      <th>103129</th>\n",
       "      <td>Hans am Ende</td>\n",
       "      <td>1900.0</td>\n",
       "      <td>sketch and study</td>\n",
       "      <td>315.0</td>\n",
       "      <td>480.0</td>\n",
       "      <td>32341.0</td>\n",
       "      <td>wikipedia</td>\n",
       "      <td>Impressionism</td>\n",
       "      <td>Maedchen auf der wiese</td>\n",
       "      <td>104</td>\n",
       "      <td>2566</td>\n",
       "      <td>24</td>\n",
       "    </tr>\n",
       "    <tr>\n",
       "      <th>103232</th>\n",
       "      <td>Henrique Pousao</td>\n",
       "      <td>1882.0</td>\n",
       "      <td>cityscape</td>\n",
       "      <td>516.0</td>\n",
       "      <td>291.0</td>\n",
       "      <td>47079.0</td>\n",
       "      <td>wikiart</td>\n",
       "      <td>Impressionism</td>\n",
       "      <td>Miragem, Nápoles</td>\n",
       "      <td>110</td>\n",
       "      <td>2700</td>\n",
       "      <td>4</td>\n",
       "    </tr>\n",
       "  </tbody>\n",
       "</table>\n",
       "<p>6870 rows × 12 columns</p>\n",
       "</div>"
      ],
      "text/plain": [
       "                           artist    date               genre  pixelsx  \\\n",
       "96            Gustave Caillebotte    1881      genre painting   5164.0   \n",
       "132         Theo van Rysselberghe    1905  nude painting (nu)   3642.0   \n",
       "147                   Edgar Degas    1869            interior   5382.0   \n",
       "216                  Claude Monet    1883           landscape   4540.0   \n",
       "279         Pierre-Auguste Renoir    1917    sketch and study   4476.0   \n",
       "...                           ...     ...                 ...      ...   \n",
       "102967  Andre Dunoyer de Segonzac  1935.0           landscape    337.0   \n",
       "103040         Gregoire Boonzaier  1964.0           landscape    450.0   \n",
       "103063              Piet Mondrian  1907.0          still life    400.0   \n",
       "103129               Hans am Ende  1900.0    sketch and study    315.0   \n",
       "103232            Henrique Pousao  1882.0           cityscape    516.0   \n",
       "\n",
       "        pixelsy  size_bytes     source          style  \\\n",
       "96       4087.0   3587461.0    wikiart  Impressionism   \n",
       "132      5124.0  11270882.0    wikiart  Impressionism   \n",
       "147      3349.0   1824204.0    wikiart  Impressionism   \n",
       "216      3611.0   4873803.0    wikiart  Impressionism   \n",
       "279      3396.0   8423735.0    wikiart  Impressionism   \n",
       "...         ...         ...        ...            ...   \n",
       "102967    453.0     62344.0    wikiart  Impressionism   \n",
       "103040    338.0    117887.0    wikiart  Impressionism   \n",
       "103063    380.0     34095.0    wikiart  Impressionism   \n",
       "103129    480.0     32341.0  wikipedia  Impressionism   \n",
       "103232    291.0     47079.0    wikiart  Impressionism   \n",
       "\n",
       "                                           title  artist_cat  title_cat  \\\n",
       "96                                   Rising Road         101       3829   \n",
       "132                                  Seated nude         253       4044   \n",
       "147                          Interior (The Rape)          51       2106   \n",
       "216     The Manneport, Rock Arch West of Etretat          45       5064   \n",
       "279                                 Sitting Girl         221       4161   \n",
       "...                                          ...         ...        ...   \n",
       "102967                  Le Morin pres de Guerard          13       2420   \n",
       "103040           Landscape with trees and houses         100       2363   \n",
       "103063                Nature died with Sunflower         222       2882   \n",
       "103129                    Maedchen auf der wiese         104       2566   \n",
       "103232                          Miragem, Nápoles         110       2700   \n",
       "\n",
       "        genre_cat  \n",
       "96              9  \n",
       "132            17  \n",
       "147            12  \n",
       "216            13  \n",
       "279            24  \n",
       "...           ...  \n",
       "102967         13  \n",
       "103040         13  \n",
       "103063         25  \n",
       "103129         24  \n",
       "103232          4  \n",
       "\n",
       "[6870 rows x 12 columns]"
      ]
     },
     "execution_count": 15,
     "metadata": {},
     "output_type": "execute_result"
    }
   ],
   "source": [
    "train_df[\"genre_cat\"] = train_df[\"genre\"].cat.codes\n",
    "\n",
    "train_df"
   ]
  },
  {
   "cell_type": "code",
   "execution_count": 16,
   "metadata": {},
   "outputs": [
    {
     "name": "stdout",
     "output_type": "stream",
     "text": [
      "['wikiart' 'wikipedia']\n"
     ]
    }
   ],
   "source": [
    "print(train_df['source'].unique())"
   ]
  },
  {
   "cell_type": "code",
   "execution_count": 17,
   "metadata": {},
   "outputs": [],
   "source": [
    "train_df[\"source\"] = train_df[\"source\"].astype('category')"
   ]
  },
  {
   "cell_type": "code",
   "execution_count": 18,
   "metadata": {},
   "outputs": [
    {
     "data": {
      "text/html": [
       "<div>\n",
       "<style scoped>\n",
       "    .dataframe tbody tr th:only-of-type {\n",
       "        vertical-align: middle;\n",
       "    }\n",
       "\n",
       "    .dataframe tbody tr th {\n",
       "        vertical-align: top;\n",
       "    }\n",
       "\n",
       "    .dataframe thead th {\n",
       "        text-align: right;\n",
       "    }\n",
       "</style>\n",
       "<table border=\"1\" class=\"dataframe\">\n",
       "  <thead>\n",
       "    <tr style=\"text-align: right;\">\n",
       "      <th></th>\n",
       "      <th>artist</th>\n",
       "      <th>date</th>\n",
       "      <th>genre</th>\n",
       "      <th>pixelsx</th>\n",
       "      <th>pixelsy</th>\n",
       "      <th>size_bytes</th>\n",
       "      <th>source</th>\n",
       "      <th>style</th>\n",
       "      <th>title</th>\n",
       "      <th>artist_cat</th>\n",
       "      <th>title_cat</th>\n",
       "      <th>genre_cat</th>\n",
       "      <th>source_cat</th>\n",
       "    </tr>\n",
       "  </thead>\n",
       "  <tbody>\n",
       "    <tr>\n",
       "      <th>96</th>\n",
       "      <td>Gustave Caillebotte</td>\n",
       "      <td>1881</td>\n",
       "      <td>genre painting</td>\n",
       "      <td>5164.0</td>\n",
       "      <td>4087.0</td>\n",
       "      <td>3587461.0</td>\n",
       "      <td>wikiart</td>\n",
       "      <td>Impressionism</td>\n",
       "      <td>Rising Road</td>\n",
       "      <td>101</td>\n",
       "      <td>3829</td>\n",
       "      <td>9</td>\n",
       "      <td>0</td>\n",
       "    </tr>\n",
       "    <tr>\n",
       "      <th>132</th>\n",
       "      <td>Theo van Rysselberghe</td>\n",
       "      <td>1905</td>\n",
       "      <td>nude painting (nu)</td>\n",
       "      <td>3642.0</td>\n",
       "      <td>5124.0</td>\n",
       "      <td>11270882.0</td>\n",
       "      <td>wikiart</td>\n",
       "      <td>Impressionism</td>\n",
       "      <td>Seated nude</td>\n",
       "      <td>253</td>\n",
       "      <td>4044</td>\n",
       "      <td>17</td>\n",
       "      <td>0</td>\n",
       "    </tr>\n",
       "    <tr>\n",
       "      <th>147</th>\n",
       "      <td>Edgar Degas</td>\n",
       "      <td>1869</td>\n",
       "      <td>interior</td>\n",
       "      <td>5382.0</td>\n",
       "      <td>3349.0</td>\n",
       "      <td>1824204.0</td>\n",
       "      <td>wikiart</td>\n",
       "      <td>Impressionism</td>\n",
       "      <td>Interior (The Rape)</td>\n",
       "      <td>51</td>\n",
       "      <td>2106</td>\n",
       "      <td>12</td>\n",
       "      <td>0</td>\n",
       "    </tr>\n",
       "    <tr>\n",
       "      <th>216</th>\n",
       "      <td>Claude Monet</td>\n",
       "      <td>1883</td>\n",
       "      <td>landscape</td>\n",
       "      <td>4540.0</td>\n",
       "      <td>3611.0</td>\n",
       "      <td>4873803.0</td>\n",
       "      <td>wikiart</td>\n",
       "      <td>Impressionism</td>\n",
       "      <td>The Manneport, Rock Arch West of Etretat</td>\n",
       "      <td>45</td>\n",
       "      <td>5064</td>\n",
       "      <td>13</td>\n",
       "      <td>0</td>\n",
       "    </tr>\n",
       "    <tr>\n",
       "      <th>279</th>\n",
       "      <td>Pierre-Auguste Renoir</td>\n",
       "      <td>1917</td>\n",
       "      <td>sketch and study</td>\n",
       "      <td>4476.0</td>\n",
       "      <td>3396.0</td>\n",
       "      <td>8423735.0</td>\n",
       "      <td>wikiart</td>\n",
       "      <td>Impressionism</td>\n",
       "      <td>Sitting Girl</td>\n",
       "      <td>221</td>\n",
       "      <td>4161</td>\n",
       "      <td>24</td>\n",
       "      <td>0</td>\n",
       "    </tr>\n",
       "    <tr>\n",
       "      <th>...</th>\n",
       "      <td>...</td>\n",
       "      <td>...</td>\n",
       "      <td>...</td>\n",
       "      <td>...</td>\n",
       "      <td>...</td>\n",
       "      <td>...</td>\n",
       "      <td>...</td>\n",
       "      <td>...</td>\n",
       "      <td>...</td>\n",
       "      <td>...</td>\n",
       "      <td>...</td>\n",
       "      <td>...</td>\n",
       "      <td>...</td>\n",
       "    </tr>\n",
       "    <tr>\n",
       "      <th>102967</th>\n",
       "      <td>Andre Dunoyer de Segonzac</td>\n",
       "      <td>1935.0</td>\n",
       "      <td>landscape</td>\n",
       "      <td>337.0</td>\n",
       "      <td>453.0</td>\n",
       "      <td>62344.0</td>\n",
       "      <td>wikiart</td>\n",
       "      <td>Impressionism</td>\n",
       "      <td>Le Morin pres de Guerard</td>\n",
       "      <td>13</td>\n",
       "      <td>2420</td>\n",
       "      <td>13</td>\n",
       "      <td>0</td>\n",
       "    </tr>\n",
       "    <tr>\n",
       "      <th>103040</th>\n",
       "      <td>Gregoire Boonzaier</td>\n",
       "      <td>1964.0</td>\n",
       "      <td>landscape</td>\n",
       "      <td>450.0</td>\n",
       "      <td>338.0</td>\n",
       "      <td>117887.0</td>\n",
       "      <td>wikiart</td>\n",
       "      <td>Impressionism</td>\n",
       "      <td>Landscape with trees and houses</td>\n",
       "      <td>100</td>\n",
       "      <td>2363</td>\n",
       "      <td>13</td>\n",
       "      <td>0</td>\n",
       "    </tr>\n",
       "    <tr>\n",
       "      <th>103063</th>\n",
       "      <td>Piet Mondrian</td>\n",
       "      <td>1907.0</td>\n",
       "      <td>still life</td>\n",
       "      <td>400.0</td>\n",
       "      <td>380.0</td>\n",
       "      <td>34095.0</td>\n",
       "      <td>wikiart</td>\n",
       "      <td>Impressionism</td>\n",
       "      <td>Nature died with Sunflower</td>\n",
       "      <td>222</td>\n",
       "      <td>2882</td>\n",
       "      <td>25</td>\n",
       "      <td>0</td>\n",
       "    </tr>\n",
       "    <tr>\n",
       "      <th>103129</th>\n",
       "      <td>Hans am Ende</td>\n",
       "      <td>1900.0</td>\n",
       "      <td>sketch and study</td>\n",
       "      <td>315.0</td>\n",
       "      <td>480.0</td>\n",
       "      <td>32341.0</td>\n",
       "      <td>wikipedia</td>\n",
       "      <td>Impressionism</td>\n",
       "      <td>Maedchen auf der wiese</td>\n",
       "      <td>104</td>\n",
       "      <td>2566</td>\n",
       "      <td>24</td>\n",
       "      <td>1</td>\n",
       "    </tr>\n",
       "    <tr>\n",
       "      <th>103232</th>\n",
       "      <td>Henrique Pousao</td>\n",
       "      <td>1882.0</td>\n",
       "      <td>cityscape</td>\n",
       "      <td>516.0</td>\n",
       "      <td>291.0</td>\n",
       "      <td>47079.0</td>\n",
       "      <td>wikiart</td>\n",
       "      <td>Impressionism</td>\n",
       "      <td>Miragem, Nápoles</td>\n",
       "      <td>110</td>\n",
       "      <td>2700</td>\n",
       "      <td>4</td>\n",
       "      <td>0</td>\n",
       "    </tr>\n",
       "  </tbody>\n",
       "</table>\n",
       "<p>6870 rows × 13 columns</p>\n",
       "</div>"
      ],
      "text/plain": [
       "                           artist    date               genre  pixelsx  \\\n",
       "96            Gustave Caillebotte    1881      genre painting   5164.0   \n",
       "132         Theo van Rysselberghe    1905  nude painting (nu)   3642.0   \n",
       "147                   Edgar Degas    1869            interior   5382.0   \n",
       "216                  Claude Monet    1883           landscape   4540.0   \n",
       "279         Pierre-Auguste Renoir    1917    sketch and study   4476.0   \n",
       "...                           ...     ...                 ...      ...   \n",
       "102967  Andre Dunoyer de Segonzac  1935.0           landscape    337.0   \n",
       "103040         Gregoire Boonzaier  1964.0           landscape    450.0   \n",
       "103063              Piet Mondrian  1907.0          still life    400.0   \n",
       "103129               Hans am Ende  1900.0    sketch and study    315.0   \n",
       "103232            Henrique Pousao  1882.0           cityscape    516.0   \n",
       "\n",
       "        pixelsy  size_bytes     source          style  \\\n",
       "96       4087.0   3587461.0    wikiart  Impressionism   \n",
       "132      5124.0  11270882.0    wikiart  Impressionism   \n",
       "147      3349.0   1824204.0    wikiart  Impressionism   \n",
       "216      3611.0   4873803.0    wikiart  Impressionism   \n",
       "279      3396.0   8423735.0    wikiart  Impressionism   \n",
       "...         ...         ...        ...            ...   \n",
       "102967    453.0     62344.0    wikiart  Impressionism   \n",
       "103040    338.0    117887.0    wikiart  Impressionism   \n",
       "103063    380.0     34095.0    wikiart  Impressionism   \n",
       "103129    480.0     32341.0  wikipedia  Impressionism   \n",
       "103232    291.0     47079.0    wikiart  Impressionism   \n",
       "\n",
       "                                           title  artist_cat  title_cat  \\\n",
       "96                                   Rising Road         101       3829   \n",
       "132                                  Seated nude         253       4044   \n",
       "147                          Interior (The Rape)          51       2106   \n",
       "216     The Manneport, Rock Arch West of Etretat          45       5064   \n",
       "279                                 Sitting Girl         221       4161   \n",
       "...                                          ...         ...        ...   \n",
       "102967                  Le Morin pres de Guerard          13       2420   \n",
       "103040           Landscape with trees and houses         100       2363   \n",
       "103063                Nature died with Sunflower         222       2882   \n",
       "103129                    Maedchen auf der wiese         104       2566   \n",
       "103232                          Miragem, Nápoles         110       2700   \n",
       "\n",
       "        genre_cat  source_cat  \n",
       "96              9           0  \n",
       "132            17           0  \n",
       "147            12           0  \n",
       "216            13           0  \n",
       "279            24           0  \n",
       "...           ...         ...  \n",
       "102967         13           0  \n",
       "103040         13           0  \n",
       "103063         25           0  \n",
       "103129         24           1  \n",
       "103232          4           0  \n",
       "\n",
       "[6870 rows x 13 columns]"
      ]
     },
     "execution_count": 18,
     "metadata": {},
     "output_type": "execute_result"
    }
   ],
   "source": [
    "train_df[\"source_cat\"] = train_df[\"source\"].cat.codes\n",
    "\n",
    "train_df"
   ]
  },
  {
   "cell_type": "markdown",
   "metadata": {},
   "source": [
    "# Analisando os Dados"
   ]
  },
  {
   "cell_type": "code",
   "execution_count": 19,
   "metadata": {},
   "outputs": [
    {
     "name": "stdout",
     "output_type": "stream",
     "text": [
      "45     470\n",
      "44     447\n",
      "9      407\n",
      "37     368\n",
      "221    353\n",
      "      ... \n",
      "250      1\n",
      "246      1\n",
      "238      1\n",
      "234      1\n",
      "287      1\n",
      "Name: artist_cat, Length: 290, dtype: int64\n"
     ]
    },
    {
     "data": {
      "text/plain": [
       "<AxesSubplot:ylabel='Frequency'>"
      ]
     },
     "execution_count": 19,
     "metadata": {},
     "output_type": "execute_result"
    },
    {
     "data": {
      "image/png": "[encoded data removed]",
      "text/plain": [
       "<Figure size 432x288 with 1 Axes>"
      ]
     },
     "metadata": {
      "needs_background": "light"
     },
     "output_type": "display_data"
    }
   ],
   "source": [
    "print(train_df['artist_cat'].value_counts())\n",
    "train_df['artist_cat'].plot(kind='hist')"
   ]
  },
  {
   "cell_type": "code",
   "execution_count": 20,
   "metadata": {},
   "outputs": [
    {
     "name": "stdout",
     "output_type": "stream",
     "text": [
      "13    2450\n",
      "9     1612\n",
      "20     966\n",
      "4      830\n",
      "15     241\n",
      "8      158\n",
      "25     141\n",
      "17     125\n",
      "23      86\n",
      "24      76\n",
      "1       47\n",
      "12      45\n",
      "22      22\n",
      "5       13\n",
      "2       10\n",
      "10      10\n",
      "14       8\n",
      "16       7\n",
      "7        5\n",
      "19       5\n",
      "0        3\n",
      "6        2\n",
      "26       2\n",
      "11       2\n",
      "21       1\n",
      "18       1\n",
      "3        1\n",
      "27       1\n",
      "Name: genre_cat, dtype: int64\n"
     ]
    },
    {
     "data": {
      "text/plain": [
       "<AxesSubplot:ylabel='Frequency'>"
      ]
     },
     "execution_count": 20,
     "metadata": {},
     "output_type": "execute_result"
    },
    {
     "data": {
      "image/png": "[encoded data removed]",
      "text/plain": [
       "<Figure size 432x288 with 1 Axes>"
      ]
     },
     "metadata": {
      "needs_background": "light"
     },
     "output_type": "display_data"
    }
   ],
   "source": [
    "print(train_df['genre_cat'].value_counts())\n",
    "train_df['genre_cat'].plot(kind='hist')"
   ]
  },
  {
   "cell_type": "code",
   "execution_count": 21,
   "metadata": {},
   "outputs": [
    {
     "name": "stdout",
     "output_type": "stream",
     "text": [
      "0    6489\n",
      "1     381\n",
      "Name: source_cat, dtype: int64\n"
     ]
    },
    {
     "data": {
      "text/plain": [
       "<AxesSubplot:ylabel='Frequency'>"
      ]
     },
     "execution_count": 21,
     "metadata": {},
     "output_type": "execute_result"
    },
    {
     "data": {
      "image/png": "[encoded data removed]",
      "text/plain": [
       "<Figure size 432x288 with 1 Axes>"
      ]
     },
     "metadata": {
      "needs_background": "light"
     },
     "output_type": "display_data"
    }
   ],
   "source": [
    "print(train_df['source_cat'].value_counts())\n",
    "train_df['source_cat'].plot(kind='hist')"
   ]
  },
  {
   "cell_type": "code",
   "execution_count": 22,
   "metadata": {},
   "outputs": [
    {
     "name": "stdout",
     "output_type": "stream",
     "text": [
      "5977    41\n",
      "2286    27\n",
      "4061    20\n",
      "5823    12\n",
      "4054    11\n",
      "        ..\n",
      "469      1\n",
      "4567     1\n",
      "2524     1\n",
      "477      1\n",
      "0        1\n",
      "Name: title_cat, Length: 6322, dtype: int64\n"
     ]
    },
    {
     "data": {
      "text/plain": [
       "<AxesSubplot:ylabel='Frequency'>"
      ]
     },
     "execution_count": 22,
     "metadata": {},
     "output_type": "execute_result"
    },
    {
     "data": {
      "image/png": "[encoded data removed]",
      "text/plain": [
       "<Figure size 432x288 with 1 Axes>"
      ]
     },
     "metadata": {
      "needs_background": "light"
     },
     "output_type": "display_data"
    }
   ],
   "source": [
    "print(train_df['title_cat'].value_counts())\n",
    "train_df['title_cat'].plot(kind='hist')"
   ]
  },
  {
   "cell_type": "code",
   "execution_count": 23,
   "metadata": {},
   "outputs": [
    {
     "name": "stdout",
     "output_type": "stream",
     "text": [
      "['1881' '1905' '1869' '1883' '1917' '1882' '1885' '1887.0' '1922' '1884'\n",
      " '1873' '1889' '1875' '1888' '1887' '1900' '1894' '1874' '1877' '1871'\n",
      " '1886' '1879' '1878' '1893' '1914.0' '1898' '1895' '1906' '1890' '1919'\n",
      " '1865' '1880' '1876' '1867' '1910.0' '1897' '1872' '1892' '1896' '1891'\n",
      " '1858' '1932' '1907.0' '1866' '1868' '1909.0' '1912' '1912.0' '1902'\n",
      " '1884.0' '1913.0' '1906.0' '1924' '1855' '1900.0' '1870' '1860' '1861'\n",
      " '1908' '1903' '1904' '1917.0' '1910' '1911' '1928.0' '1903.0' '1888.0'\n",
      " '1864' '1899' '1907' '1862' '1918' '1923' '1898.0' '1885.0' '1925.0'\n",
      " '1925' '1901' '1916' '1914' '1913' '1915' '1899.0' '1909' '1880.0' '1863'\n",
      " '1904.0' '1886.0' '1905.0' '1908.0' '1940.0' '1856' '1939' '1920'\n",
      " '1979.0' '1922.0' '1911.0' '1926.0' '1920.0' '1891.0' '1883.0' '1923.0'\n",
      " '1881.0' '1892.0' '1896.0' '1937.0' '1921.0' '1929.0' '1938.0' '1893.0'\n",
      " '1870.0' '1866.0' '1879.0' '1901.0' '1897.0' '1890.0' '1894.0' '1889.0'\n",
      " '1895.0' '1915.0' '1921' '1877.0' '1902.0' '1916.0' '1930' '1875.0'\n",
      " '1918.0' '1934.0' '1927.0' '1933' '1859.0' '1930.0' '1933.0' '1924.0'\n",
      " '1931.0' '1983.0' '1840.0' '1859' '1960.0' '1948.0' '1854.0' '1926'\n",
      " '1934' '1919.0' '1946.0' '1878.0' '1857' '1943.0' '1966.0' '1936'\n",
      " '1882.0' '1962.0' '1861.0' '1945.0' '1947.0' '1937' '1942.0' '1935.0'\n",
      " '1952.0' '1932.0' '1865.0' '1927' '1941.0' '1954.0' '1971.0' '1938'\n",
      " '1941' '1959.0' '1996.0' '1951.0' '1987.0' '1939.0' '1860.0' '1949.0'\n",
      " '1967.0' '1931' '1928' '1957.0' '1872.0' '1935' '1944.0' '1936.0'\n",
      " '1973.0' '1975.0' '1963.0' '1867.0' '1955.0' '1876.0' '1958.0' '1874.0'\n",
      " '1974.0' '1969.0' '1976.0' '1871.0' '1952' '1943' '1942' '1944' '1968.0'\n",
      " '1956.0' '1929' '1956' '1950' '1970.0' '1961.0' '1964.0' '1972.0'\n",
      " '1986.0' '1988.0' '1977.0' '1997.0' '1965.0' '1950.0' '2003.0' '1968'\n",
      " '1958' '1965' '1945' '1957']\n"
     ]
    }
   ],
   "source": [
    "print(train_df['date'].unique())\n",
    "#train_df['date'].plot(kind='hist')"
   ]
  },
  {
   "cell_type": "code",
   "execution_count": 24,
   "metadata": {},
   "outputs": [
    {
     "name": "stdout",
     "output_type": "stream",
     "text": [
      "1280.0    513\n",
      "1000.0    434\n",
      "800.0     230\n",
      "1024.0    151\n",
      "900.0     137\n",
      "         ... \n",
      "1403.0      1\n",
      "3600.0      1\n",
      "1297.0      1\n",
      "1467.0      1\n",
      "4480.0      1\n",
      "Name: pixelsx, Length: 1376, dtype: int64\n"
     ]
    },
    {
     "data": {
      "text/plain": [
       "<AxesSubplot:ylabel='Frequency'>"
      ]
     },
     "execution_count": 24,
     "metadata": {},
     "output_type": "execute_result"
    },
    {
     "data": {
      "image/png": "[encoded data removed]",
      "text/plain": [
       "<Figure size 432x288 with 1 Axes>"
      ]
     },
     "metadata": {
      "needs_background": "light"
     },
     "output_type": "display_data"
    }
   ],
   "source": [
    "print(train_df['pixelsx'].value_counts())\n",
    "train_df['pixelsx'].plot(kind='hist')"
   ]
  },
  {
   "cell_type": "code",
   "execution_count": 25,
   "metadata": {},
   "outputs": [
    {
     "name": "stdout",
     "output_type": "stream",
     "text": [
      "1024.0    483\n",
      "1000.0    273\n",
      "1200.0    143\n",
      "800.0     106\n",
      "1280.0     86\n",
      "         ... \n",
      "1561.0      1\n",
      "2473.0      1\n",
      "2831.0      1\n",
      "1261.0      1\n",
      "2794.0      1\n",
      "Name: pixelsy, Length: 1527, dtype: int64\n"
     ]
    },
    {
     "data": {
      "text/plain": [
       "<AxesSubplot:ylabel='Frequency'>"
      ]
     },
     "execution_count": 25,
     "metadata": {},
     "output_type": "execute_result"
    },
    {
     "data": {
      "image/png": "[encoded data removed]",
      "text/plain": [
       "<Figure size 432x288 with 1 Axes>"
      ]
     },
     "metadata": {
      "needs_background": "light"
     },
     "output_type": "display_data"
    }
   ],
   "source": [
    "print(train_df['pixelsy'].value_counts())\n",
    "train_df['pixelsy'].plot(kind='hist')"
   ]
  },
  {
   "cell_type": "code",
   "execution_count": 26,
   "metadata": {},
   "outputs": [
    {
     "name": "stdout",
     "output_type": "stream",
     "text": [
      "262744.0     2\n",
      "45925.0      2\n",
      "230162.0     2\n",
      "250668.0     2\n",
      "1900411.0    2\n",
      "            ..\n",
      "1594882.0    1\n",
      "170690.0     1\n",
      "237037.0     1\n",
      "1725981.0    1\n",
      "36864.0      1\n",
      "Name: size_bytes, Length: 6827, dtype: int64\n"
     ]
    },
    {
     "data": {
      "text/plain": [
       "<AxesSubplot:ylabel='Frequency'>"
      ]
     },
     "execution_count": 26,
     "metadata": {},
     "output_type": "execute_result"
    },
    {
     "data": {
      "image/png": "[encoded data removed]",
      "text/plain": [
       "<Figure size 432x288 with 1 Axes>"
      ]
     },
     "metadata": {
      "needs_background": "light"
     },
     "output_type": "display_data"
    }
   ],
   "source": [
    "print(train_df['size_bytes'].value_counts())\n",
    "train_df['size_bytes'].plot(kind='hist')"
   ]
  },
  {
   "cell_type": "markdown",
   "metadata": {},
   "source": [
    "# Verificando presença de Outliers"
   ]
  },
  {
   "cell_type": "code",
   "execution_count": 27,
   "metadata": {},
   "outputs": [
    {
     "data": {
      "text/plain": [
       "<AxesSubplot:title={'center':'genre_cat'}>"
      ]
     },
     "execution_count": 27,
     "metadata": {},
     "output_type": "execute_result"
    },
    {
     "data": {
      "image/png": "[encoded data removed]",
      "text/plain": [
       "<Figure size 432x288 with 1 Axes>"
      ]
     },
     "metadata": {
      "needs_background": "light"
     },
     "output_type": "display_data"
    }
   ],
   "source": [
    "train_df['genre_cat'].plot(kind='box', title='genre_cat')"
   ]
  },
  {
   "cell_type": "code",
   "execution_count": 28,
   "metadata": {},
   "outputs": [
    {
     "data": {
      "text/plain": [
       "<AxesSubplot:title={'center':'title_cat'}>"
      ]
     },
     "execution_count": 28,
     "metadata": {},
     "output_type": "execute_result"
    },
    {
     "data": {
      "image/png": "[encoded data removed]",
      "text/plain": [
       "<Figure size 432x288 with 1 Axes>"
      ]
     },
     "metadata": {
      "needs_background": "light"
     },
     "output_type": "display_data"
    }
   ],
   "source": [
    "train_df['title_cat'].plot(kind='box', title='title_cat')"
   ]
  },
  {
   "cell_type": "code",
   "execution_count": 29,
   "metadata": {},
   "outputs": [
    {
     "data": {
      "text/plain": [
       "<AxesSubplot:title={'center':'source_cat'}>"
      ]
     },
     "execution_count": 29,
     "metadata": {},
     "output_type": "execute_result"
    },
    {
     "data": {
      "image/png": "[encoded data removed]",
      "text/plain": [
       "<Figure size 432x288 with 1 Axes>"
      ]
     },
     "metadata": {
      "needs_background": "light"
     },
     "output_type": "display_data"
    }
   ],
   "source": [
    "train_df['source_cat'].plot(kind='box', title='source_cat')"
   ]
  },
  {
   "cell_type": "code",
   "execution_count": 30,
   "metadata": {},
   "outputs": [
    {
     "data": {
      "text/plain": [
       "<AxesSubplot:title={'center':'pixelsx'}>"
      ]
     },
     "execution_count": 30,
     "metadata": {},
     "output_type": "execute_result"
    },
    {
     "data": {
      "image/png": "[encoded data removed]",
      "text/plain": [
       "<Figure size 432x288 with 1 Axes>"
      ]
     },
     "metadata": {
      "needs_background": "light"
     },
     "output_type": "display_data"
    }
   ],
   "source": [
    "train_df['pixelsx'].plot(kind='box', title='pixelsx')"
   ]
  },
  {
   "cell_type": "code",
   "execution_count": 31,
   "metadata": {},
   "outputs": [
    {
     "data": {
      "text/plain": [
       "<AxesSubplot:title={'center':'pixelsy'}>"
      ]
     },
     "execution_count": 31,
     "metadata": {},
     "output_type": "execute_result"
    },
    {
     "data": {
      "image/png": "[encoded data removed]",
      "text/plain": [
       "<Figure size 432x288 with 1 Axes>"
      ]
     },
     "metadata": {
      "needs_background": "light"
     },
     "output_type": "display_data"
    }
   ],
   "source": [
    "train_df['pixelsy'].plot(kind='box', title='pixelsy')"
   ]
  },
  {
   "cell_type": "code",
   "execution_count": 32,
   "metadata": {},
   "outputs": [
    {
     "data": {
      "text/plain": [
       "<AxesSubplot:title={'center':'size_bytes'}>"
      ]
     },
     "execution_count": 32,
     "metadata": {},
     "output_type": "execute_result"
    },
    {
     "data": {
      "image/png": "[encoded data removed]",
      "text/plain": [
       "<Figure size 432x288 with 1 Axes>"
      ]
     },
     "metadata": {
      "needs_background": "light"
     },
     "output_type": "display_data"
    }
   ],
   "source": [
    "train_df['size_bytes'].plot(kind='box', title='size_bytes')"
   ]
  },
  {
   "cell_type": "markdown",
   "metadata": {},
   "source": [
    "# Matriz de Correlação"
   ]
  },
  {
   "cell_type": "code",
   "execution_count": 33,
   "metadata": {},
   "outputs": [
    {
     "data": {
      "text/html": [
       "<style  type=\"text/css\" >\n",
       "#T_a94ca2ba_3e2b_11eb_9280_641c67a5d88erow0_col0,#T_a94ca2ba_3e2b_11eb_9280_641c67a5d88erow1_col1,#T_a94ca2ba_3e2b_11eb_9280_641c67a5d88erow2_col2,#T_a94ca2ba_3e2b_11eb_9280_641c67a5d88erow3_col3,#T_a94ca2ba_3e2b_11eb_9280_641c67a5d88erow4_col4,#T_a94ca2ba_3e2b_11eb_9280_641c67a5d88erow5_col5{\n",
       "            background-color:  #b40426;\n",
       "            color:  #f1f1f1;\n",
       "        }#T_a94ca2ba_3e2b_11eb_9280_641c67a5d88erow0_col1,#T_a94ca2ba_3e2b_11eb_9280_641c67a5d88erow0_col3,#T_a94ca2ba_3e2b_11eb_9280_641c67a5d88erow0_col5,#T_a94ca2ba_3e2b_11eb_9280_641c67a5d88erow2_col1,#T_a94ca2ba_3e2b_11eb_9280_641c67a5d88erow2_col4,#T_a94ca2ba_3e2b_11eb_9280_641c67a5d88erow3_col0,#T_a94ca2ba_3e2b_11eb_9280_641c67a5d88erow3_col2,#T_a94ca2ba_3e2b_11eb_9280_641c67a5d88erow5_col2{\n",
       "            background-color:  #3b4cc0;\n",
       "            color:  #f1f1f1;\n",
       "        }#T_a94ca2ba_3e2b_11eb_9280_641c67a5d88erow0_col2{\n",
       "            background-color:  #3f53c6;\n",
       "            color:  #f1f1f1;\n",
       "        }#T_a94ca2ba_3e2b_11eb_9280_641c67a5d88erow0_col4,#T_a94ca2ba_3e2b_11eb_9280_641c67a5d88erow5_col0{\n",
       "            background-color:  #455cce;\n",
       "            color:  #f1f1f1;\n",
       "        }#T_a94ca2ba_3e2b_11eb_9280_641c67a5d88erow1_col0{\n",
       "            background-color:  #5977e3;\n",
       "            color:  #000000;\n",
       "        }#T_a94ca2ba_3e2b_11eb_9280_641c67a5d88erow1_col2{\n",
       "            background-color:  #3e51c5;\n",
       "            color:  #f1f1f1;\n",
       "        }#T_a94ca2ba_3e2b_11eb_9280_641c67a5d88erow1_col3{\n",
       "            background-color:  #6b8df0;\n",
       "            color:  #000000;\n",
       "        }#T_a94ca2ba_3e2b_11eb_9280_641c67a5d88erow1_col4{\n",
       "            background-color:  #4f69d9;\n",
       "            color:  #000000;\n",
       "        }#T_a94ca2ba_3e2b_11eb_9280_641c67a5d88erow1_col5,#T_a94ca2ba_3e2b_11eb_9280_641c67a5d88erow2_col3{\n",
       "            background-color:  #5673e0;\n",
       "            color:  #000000;\n",
       "        }#T_a94ca2ba_3e2b_11eb_9280_641c67a5d88erow2_col0{\n",
       "            background-color:  #5a78e4;\n",
       "            color:  #000000;\n",
       "        }#T_a94ca2ba_3e2b_11eb_9280_641c67a5d88erow2_col5{\n",
       "            background-color:  #4a63d3;\n",
       "            color:  #f1f1f1;\n",
       "        }#T_a94ca2ba_3e2b_11eb_9280_641c67a5d88erow3_col1{\n",
       "            background-color:  #4b64d5;\n",
       "            color:  #f1f1f1;\n",
       "        }#T_a94ca2ba_3e2b_11eb_9280_641c67a5d88erow3_col4{\n",
       "            background-color:  #f39577;\n",
       "            color:  #000000;\n",
       "        }#T_a94ca2ba_3e2b_11eb_9280_641c67a5d88erow3_col5{\n",
       "            background-color:  #f2c9b4;\n",
       "            color:  #000000;\n",
       "        }#T_a94ca2ba_3e2b_11eb_9280_641c67a5d88erow4_col0{\n",
       "            background-color:  #6282ea;\n",
       "            color:  #000000;\n",
       "        }#T_a94ca2ba_3e2b_11eb_9280_641c67a5d88erow4_col1{\n",
       "            background-color:  #4e68d8;\n",
       "            color:  #000000;\n",
       "        }#T_a94ca2ba_3e2b_11eb_9280_641c67a5d88erow4_col2{\n",
       "            background-color:  #3c4ec2;\n",
       "            color:  #f1f1f1;\n",
       "        }#T_a94ca2ba_3e2b_11eb_9280_641c67a5d88erow4_col3{\n",
       "            background-color:  #f08b6e;\n",
       "            color:  #000000;\n",
       "        }#T_a94ca2ba_3e2b_11eb_9280_641c67a5d88erow4_col5{\n",
       "            background-color:  #f2cbb7;\n",
       "            color:  #000000;\n",
       "        }#T_a94ca2ba_3e2b_11eb_9280_641c67a5d88erow5_col1{\n",
       "            background-color:  #4358cb;\n",
       "            color:  #f1f1f1;\n",
       "        }#T_a94ca2ba_3e2b_11eb_9280_641c67a5d88erow5_col3{\n",
       "            background-color:  #f4c6af;\n",
       "            color:  #000000;\n",
       "        }#T_a94ca2ba_3e2b_11eb_9280_641c67a5d88erow5_col4{\n",
       "            background-color:  #eed0c0;\n",
       "            color:  #000000;\n",
       "        }</style><table id=\"T_a94ca2ba_3e2b_11eb_9280_641c67a5d88e\" ><thead>    <tr>        <th class=\"blank level0\" ></th>        <th class=\"col_heading level0 col0\" >genre_cat</th>        <th class=\"col_heading level0 col1\" >title_cat</th>        <th class=\"col_heading level0 col2\" >source_cat</th>        <th class=\"col_heading level0 col3\" >pixelsx</th>        <th class=\"col_heading level0 col4\" >pixelsy</th>        <th class=\"col_heading level0 col5\" >size_bytes</th>    </tr></thead><tbody>\n",
       "                <tr>\n",
       "                        <th id=\"T_a94ca2ba_3e2b_11eb_9280_641c67a5d88elevel0_row0\" class=\"row_heading level0 row0\" >genre_cat</th>\n",
       "                        <td id=\"T_a94ca2ba_3e2b_11eb_9280_641c67a5d88erow0_col0\" class=\"data row0 col0\" >1.000000</td>\n",
       "                        <td id=\"T_a94ca2ba_3e2b_11eb_9280_641c67a5d88erow0_col1\" class=\"data row0 col1\" >-0.006268</td>\n",
       "                        <td id=\"T_a94ca2ba_3e2b_11eb_9280_641c67a5d88erow0_col2\" class=\"data row0 col2\" >-0.001215</td>\n",
       "                        <td id=\"T_a94ca2ba_3e2b_11eb_9280_641c67a5d88erow0_col3\" class=\"data row0 col3\" >-0.119108</td>\n",
       "                        <td id=\"T_a94ca2ba_3e2b_11eb_9280_641c67a5d88erow0_col4\" class=\"data row0 col4\" >0.024510</td>\n",
       "                        <td id=\"T_a94ca2ba_3e2b_11eb_9280_641c67a5d88erow0_col5\" class=\"data row0 col5\" >-0.077301</td>\n",
       "            </tr>\n",
       "            <tr>\n",
       "                        <th id=\"T_a94ca2ba_3e2b_11eb_9280_641c67a5d88elevel0_row1\" class=\"row_heading level0 row1\" >title_cat</th>\n",
       "                        <td id=\"T_a94ca2ba_3e2b_11eb_9280_641c67a5d88erow1_col0\" class=\"data row1 col0\" >-0.006268</td>\n",
       "                        <td id=\"T_a94ca2ba_3e2b_11eb_9280_641c67a5d88erow1_col1\" class=\"data row1 col1\" >1.000000</td>\n",
       "                        <td id=\"T_a94ca2ba_3e2b_11eb_9280_641c67a5d88erow1_col2\" class=\"data row1 col2\" >-0.003235</td>\n",
       "                        <td id=\"T_a94ca2ba_3e2b_11eb_9280_641c67a5d88erow1_col3\" class=\"data row1 col3\" >0.052321</td>\n",
       "                        <td id=\"T_a94ca2ba_3e2b_11eb_9280_641c67a5d88erow1_col4\" class=\"data row1 col4\" >0.057658</td>\n",
       "                        <td id=\"T_a94ca2ba_3e2b_11eb_9280_641c67a5d88erow1_col5\" class=\"data row1 col5\" >0.021798</td>\n",
       "            </tr>\n",
       "            <tr>\n",
       "                        <th id=\"T_a94ca2ba_3e2b_11eb_9280_641c67a5d88elevel0_row2\" class=\"row_heading level0 row2\" >source_cat</th>\n",
       "                        <td id=\"T_a94ca2ba_3e2b_11eb_9280_641c67a5d88erow2_col0\" class=\"data row2 col0\" >-0.001215</td>\n",
       "                        <td id=\"T_a94ca2ba_3e2b_11eb_9280_641c67a5d88erow2_col1\" class=\"data row2 col1\" >-0.003235</td>\n",
       "                        <td id=\"T_a94ca2ba_3e2b_11eb_9280_641c67a5d88erow2_col2\" class=\"data row2 col2\" >1.000000</td>\n",
       "                        <td id=\"T_a94ca2ba_3e2b_11eb_9280_641c67a5d88erow2_col3\" class=\"data row2 col3\" >-0.015143</td>\n",
       "                        <td id=\"T_a94ca2ba_3e2b_11eb_9280_641c67a5d88erow2_col4\" class=\"data row2 col4\" >-0.012347</td>\n",
       "                        <td id=\"T_a94ca2ba_3e2b_11eb_9280_641c67a5d88erow2_col5\" class=\"data row2 col5\" >-0.018931</td>\n",
       "            </tr>\n",
       "            <tr>\n",
       "                        <th id=\"T_a94ca2ba_3e2b_11eb_9280_641c67a5d88elevel0_row3\" class=\"row_heading level0 row3\" >pixelsx</th>\n",
       "                        <td id=\"T_a94ca2ba_3e2b_11eb_9280_641c67a5d88erow3_col0\" class=\"data row3 col0\" >-0.119108</td>\n",
       "                        <td id=\"T_a94ca2ba_3e2b_11eb_9280_641c67a5d88erow3_col1\" class=\"data row3 col1\" >0.052321</td>\n",
       "                        <td id=\"T_a94ca2ba_3e2b_11eb_9280_641c67a5d88erow3_col2\" class=\"data row3 col2\" >-0.015143</td>\n",
       "                        <td id=\"T_a94ca2ba_3e2b_11eb_9280_641c67a5d88erow3_col3\" class=\"data row3 col3\" >1.000000</td>\n",
       "                        <td id=\"T_a94ca2ba_3e2b_11eb_9280_641c67a5d88erow3_col4\" class=\"data row3 col4\" >0.755994</td>\n",
       "                        <td id=\"T_a94ca2ba_3e2b_11eb_9280_641c67a5d88erow3_col5\" class=\"data row3 col5\" >0.575408</td>\n",
       "            </tr>\n",
       "            <tr>\n",
       "                        <th id=\"T_a94ca2ba_3e2b_11eb_9280_641c67a5d88elevel0_row4\" class=\"row_heading level0 row4\" >pixelsy</th>\n",
       "                        <td id=\"T_a94ca2ba_3e2b_11eb_9280_641c67a5d88erow4_col0\" class=\"data row4 col0\" >0.024510</td>\n",
       "                        <td id=\"T_a94ca2ba_3e2b_11eb_9280_641c67a5d88erow4_col1\" class=\"data row4 col1\" >0.057658</td>\n",
       "                        <td id=\"T_a94ca2ba_3e2b_11eb_9280_641c67a5d88erow4_col2\" class=\"data row4 col2\" >-0.012347</td>\n",
       "                        <td id=\"T_a94ca2ba_3e2b_11eb_9280_641c67a5d88erow4_col3\" class=\"data row4 col3\" >0.755994</td>\n",
       "                        <td id=\"T_a94ca2ba_3e2b_11eb_9280_641c67a5d88erow4_col4\" class=\"data row4 col4\" >1.000000</td>\n",
       "                        <td id=\"T_a94ca2ba_3e2b_11eb_9280_641c67a5d88erow4_col5\" class=\"data row4 col5\" >0.569589</td>\n",
       "            </tr>\n",
       "            <tr>\n",
       "                        <th id=\"T_a94ca2ba_3e2b_11eb_9280_641c67a5d88elevel0_row5\" class=\"row_heading level0 row5\" >size_bytes</th>\n",
       "                        <td id=\"T_a94ca2ba_3e2b_11eb_9280_641c67a5d88erow5_col0\" class=\"data row5 col0\" >-0.077301</td>\n",
       "                        <td id=\"T_a94ca2ba_3e2b_11eb_9280_641c67a5d88erow5_col1\" class=\"data row5 col1\" >0.021798</td>\n",
       "                        <td id=\"T_a94ca2ba_3e2b_11eb_9280_641c67a5d88erow5_col2\" class=\"data row5 col2\" >-0.018931</td>\n",
       "                        <td id=\"T_a94ca2ba_3e2b_11eb_9280_641c67a5d88erow5_col3\" class=\"data row5 col3\" >0.575408</td>\n",
       "                        <td id=\"T_a94ca2ba_3e2b_11eb_9280_641c67a5d88erow5_col4\" class=\"data row5 col4\" >0.569589</td>\n",
       "                        <td id=\"T_a94ca2ba_3e2b_11eb_9280_641c67a5d88erow5_col5\" class=\"data row5 col5\" >1.000000</td>\n",
       "            </tr>\n",
       "    </tbody></table>"
      ],
      "text/plain": [
       "<pandas.io.formats.style.Styler at 0x20d595a2c10>"
      ]
     },
     "execution_count": 33,
     "metadata": {},
     "output_type": "execute_result"
    }
   ],
   "source": [
    "correlation_col = ['genre_cat','title_cat','source_cat', 'pixelsx', 'pixelsy', 'date', 'size_bytes']\n",
    "df = pd.DataFrame(train_df[correlation_col])\n",
    "corr = df.corr()\n",
    "corr.style.background_gradient(cmap='coolwarm')"
   ]
  },
  {
   "cell_type": "markdown",
   "metadata": {},
   "source": [
    "# Novo Dataframe com os dados numéricos para o Agrupamento "
   ]
  },
  {
   "cell_type": "code",
   "execution_count": 34,
   "metadata": {},
   "outputs": [],
   "source": [
    "numeric_df = train_df[['genre_cat','title_cat','source_cat', 'pixelsx', 'pixelsy', 'date', 'size_bytes']]"
   ]
  },
  {
   "cell_type": "markdown",
   "metadata": {},
   "source": [
    "# Normalização dos Dados"
   ]
  },
  {
   "cell_type": "code",
   "execution_count": 35,
   "metadata": {},
   "outputs": [],
   "source": [
    "norm_df = preprocessing.Normalizer().fit_transform(numeric_df)"
   ]
  },
  {
   "cell_type": "markdown",
   "metadata": {},
   "source": [
    "# K-means"
   ]
  },
  {
   "cell_type": "code",
   "execution_count": null,
   "metadata": {},
   "outputs": [
    {
     "name": "stdout",
     "output_type": "stream",
     "text": [
      "BRUTE DATA:\n",
      "\n",
      "K = 10\n",
      "1 - silhouette with max_iter: 0.5583889712606037\n",
      "10 - silhouette with max_iter: 0.5609240789857171\n",
      "100 - silhouette with max_iter: 0.5561605047083132\n",
      "#################################################\n",
      "K = 20\n",
      "1 - silhouette with max_iter: 0.524753540397219\n",
      "10 - silhouette with max_iter: 0.5229490842658576\n",
      "100 - silhouette with max_iter: 0.530157599050386\n",
      "#################################################\n",
      "K = 50\n",
      "1 - silhouette with max_iter: 0.5084418561162266\n",
      "10 - silhouette with max_iter: 0.5172700311708869\n",
      "100 - silhouette with max_iter: 0.5175503588944776\n",
      "#################################################\n",
      "K = 100\n",
      "1 - silhouette with max_iter: 0.4856543390624968\n",
      "10 - silhouette with max_iter: 0.49268308868678606\n",
      "100 - silhouette with max_iter: 0.49268308868678606\n",
      "#################################################\n",
      "K = 200\n",
      "1 - silhouette with max_iter: 0.4161672443330375\n",
      "10 - silhouette with max_iter: 0.42518159678392925\n",
      "100 - silhouette with max_iter: 0.42518159678392925\n",
      "#################################################\n",
      "\n",
      "NORMALIZED DATA:\n",
      "\n",
      "K = 10\n",
      "1 - silhouette with max_iter: 0.384866159602405\n",
      "10 - silhouette with max_iter: 0.4203790464937526\n",
      "100 - silhouette with max_iter: 0.42523445698300205\n",
      "##################################################\n",
      "K = 20\n",
      "1 - silhouette with max_iter: 0.36121669230342535\n",
      "10 - silhouette with max_iter: 0.3778271687836887\n",
      "100 - silhouette with max_iter: 0.37956672192307583\n",
      "##################################################\n",
      "K = 50\n",
      "1 - silhouette with max_iter: 0.2931749816811867\n",
      "10 - silhouette with max_iter: 0.29472246370495087\n",
      "100 - silhouette with max_iter: 0.2972788255061112\n",
      "##################################################\n",
      "K = 100\n",
      "1 - silhouette with max_iter: 0.24873976604078848\n",
      "10 - silhouette with max_iter: 0.26504352344643867\n",
      "100 - silhouette with max_iter: 0.26795733531998384\n",
      "##################################################\n",
      "K = 200\n"
     ]
    }
   ],
   "source": [
    "iters = [1, 10, 100]\n",
    "k_values = [10, 20, 50, 100, 200]\n",
    "\n",
    "print(\"BRUTE DATA:\\n\") \n",
    "\n",
    "for k in k_values:\n",
    "    print(\"K =\", k)\n",
    "    for i in iters:\n",
    "        kmeans_model = KMeans(n_clusters = k, max_iter=i, random_state=0)\n",
    "        kmeans_model.fit_predict(numeric_df)\n",
    "\n",
    "        labels = kmeans_model.labels_\n",
    "        print(\"{i} - silhouette with max_iter:\".format(i=i), metrics.silhouette_score(numeric_df, labels, metric='euclidean'))\n",
    "\n",
    "    print(\"#################################################\")\n",
    "\n",
    "print(\"\\nNORMALIZED DATA:\\n\")    \n",
    "\n",
    "for k in k_values:\n",
    "    print(\"K =\", k)\n",
    "    for i in iters:\n",
    "        kmeans_model = KMeans(n_clusters = k, max_iter=i, random_state=0)\n",
    "        kmeans_model.fit_predict(norm_df)\n",
    "\n",
    "        labels = kmeans_model.labels_\n",
    "        print(\"{i} - silhouette with max_iter:\".format(i=i), metrics.silhouette_score(norm_df, labels, metric='euclidean'))\n",
    "\n",
    "    print(\"##################################################\")"
   ]
  }
 ],
 "metadata": {
  "kernelspec": {
   "display_name": "Python 3",
   "language": "python",
   "name": "python3"
  },
  "language_info": {
   "codemirror_mode": {
    "name": "ipython",
    "version": 3
   },
   "file_extension": ".py",
   "mimetype": "text/x-python",
   "name": "python",
   "nbconvert_exporter": "python",
   "pygments_lexer": "ipython3",
   "version": "3.8.5"
  }
 },
 "nbformat": 4,
 "nbformat_minor": 4
}
